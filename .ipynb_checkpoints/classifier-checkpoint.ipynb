{
 "cells": [
  {
   "cell_type": "code",
   "execution_count": 168,
   "id": "b0565de3-5d95-4f1b-bbd6-3ebe9353ca8b",
   "metadata": {},
   "outputs": [],
   "source": [
    "import sklearn.datasets\n",
    "import numpy as np\n",
    "from numpy.linalg import norm\n",
    "from scipy.spatial.distance import hamming\n",
    "import matplotlib.pyplot as plt\n",
    "import pandas as pd\n",
    "import os\n",
    "import torch\n",
    "import time\n",
    "\n",
    "np.random.seed(1)\n",
    "NUM_FEATURES = 784\n",
    "\n",
    "TRAIN_SUBSET = 5000\n",
    "TEST_SUBSET = 1000"
   ]
  },
  {
   "cell_type": "code",
   "execution_count": 2,
   "id": "889c2679-22b9-439c-86bd-535b704fda31",
   "metadata": {},
   "outputs": [],
   "source": [
    "dataset = sklearn.datasets.fetch_openml(\"mnist_784\", version=1)"
   ]
  },
  {
   "cell_type": "code",
   "execution_count": 140,
   "id": "a5860e10-651b-4cdb-824b-f2a45c9d0fc8",
   "metadata": {},
   "outputs": [],
   "source": [
    "X = dataset.data.to_numpy()\n",
    "y = dataset.target.to_numpy()"
   ]
  },
  {
   "cell_type": "code",
   "execution_count": 169,
   "id": "8729e36d-eee0-4264-89d9-3ab3d1535cd9",
   "metadata": {},
   "outputs": [],
   "source": [
    "def randomVector(n):\n",
    "    \"\"\"\n",
    "    Randomly generates hypervector of size n\n",
    "    \"\"\"\n",
    "    return (2*np.random.randint(0, 2, n)) - 1\n",
    "\n",
    "def bind(a, b):\n",
    "    return np.multiply(a, b)\n",
    "\n",
    "def randomFlip(vec, idxs):\n",
    "    \"\"\"\n",
    "    Returns a vector with the inx bits flipped.\n",
    "    \"\"\"\n",
    "    assert len(idxs) <= len(vec), \"Number of bits to flip greater than vector length\"\n",
    "    \n",
    "    flipped_vec = np.copy(vec)\n",
    "    \n",
    "    for i in idxs:\n",
    "        flipped_vec[i] *= -1\n",
    "        \n",
    "    return flipped_vec\n",
    "    \n",
    "def cosSim(a, b):\n",
    "    \"\"\"\n",
    "    Performs cosine similarity on vectors a and b\n",
    "    \"\"\"\n",
    "    \n",
    "    if norm(a) == 0 or norm(b) == 0:\n",
    "        return 0\n",
    "    else:\n",
    "        return (np.dot(a, b) / (norm(a) * norm(b)))\n",
    "\n",
    "def hammingDist(a, b):\n",
    "    \"\"\"\n",
    "    Normalized hamming distance between two vectors.\n",
    "    Vectors are assumed to be binarized.\n",
    "    \"\"\"\n",
    "    assert len(a) == len(b), \"Vectors are not the same length\"\n",
    "    return hamming(a, b)\n",
    "    #return np.count_nonzero(a!=b) / len(a)"
   ]
  },
  {
   "cell_type": "code",
   "execution_count": 170,
   "id": "a3d9596d-038c-4a14-a843-e3f09efb2ca3",
   "metadata": {},
   "outputs": [],
   "source": [
    "def buildLevelVectors(levels, dim):\n",
    "    \"\"\"\n",
    "    Level hypervectors, level hypervector at i is copied from level hypervector i-1 with D/(2*255) bits flipped\n",
    "    \"\"\"\n",
    "    levelvectors = []\n",
    "    min_vector = randomVector(dim)\n",
    "    \n",
    "    levelvectors.append(min_vector)\n",
    "    \n",
    "    window = 0\n",
    "    indexes = np.arange(0, dim)\n",
    "    np.random.shuffle(indexes)\n",
    "    bit_flips = int(dim/(2*255))\n",
    "\n",
    "    for i in range(1, levels):\n",
    "        mid_vec = np.copy(levelvectors[i-1])\n",
    "        mid_vec = randomFlip(mid_vec, indexes[window:window+bit_flips])\n",
    "        window += bit_flips\n",
    "        \n",
    "        levelvectors.append(mid_vec)\n",
    "        \n",
    "    return np.array(levelvectors)\n",
    "\n",
    "def buildPosVectors(n, dim):\n",
    "    \"\"\"\n",
    "    Array of n random hypervectors to encode position of features.\n",
    "    \"\"\"\n",
    "    posvectors = []\n",
    "    for i in range(n):\n",
    "        posvectors.append(randomVector(dim))\n",
    "    return np.array(posvectors)\n",
    "\n",
    "def rmrBinarize(x):\n",
    "    \"\"\"\n",
    "    Random majority rule. 0 are randomly set to 1 or -1\n",
    "    \"\"\"\n",
    "    h = [i/i if i != 0 else np.random.choice([-1.0, 1.0]) for i in x]\n",
    "    return np.array(h)\n",
    "\n",
    "def fmrBinarize(x, k):\n",
    "    \"\"\"\n",
    "    Fixed majority rule. 0 are set to k\n",
    "    \"\"\"\n",
    "    h = [i/i if i != 0 else k for i in x]\n",
    "    return np.array(h)"
   ]
  },
  {
   "cell_type": "code",
   "execution_count": 171,
   "id": "f2214b57-ce24-43b3-800c-82c02a42fd88",
   "metadata": {},
   "outputs": [],
   "source": [
    "class Encoder:\n",
    "    def __init__(self, dim, n_features, binarizer):\n",
    "        self.D = dim\n",
    "        self.n_features = n_features\n",
    "        self.B = buildPosVectors(n_features, dim)\n",
    "        self.levelvectors = buildLevelVectors(256, dim)\n",
    "        self.binarizer = binarizer        \n",
    "        self.classvecs = {}\n",
    "        \n",
    "    def binarize(self, x):\n",
    "        if self.binarizer == 'rmr':\n",
    "            return rmrBinarize(x)\n",
    "        else:\n",
    "            return fmrBinarize(x, -1)\n",
    "    \n",
    "    def encodeVector(self, X):\n",
    "        h = np.zeros(self.D)\n",
    "        for i, feature in enumerate(X):\n",
    "            #h += bind(self.levelvectors[int(feature)], self.B[i])\n",
    "            h = self.bundle(h, bind(self.levelvectors[int(feature)], self.B[i]))\n",
    "        \n",
    "        return self.binarize(h)\n",
    "        \n",
    "    \n",
    "    def bundle(self, a, b):\n",
    "        \"\"\"\n",
    "        Adding with binarizing afterwards\n",
    "        \"\"\"\n",
    "        return self.binarize(a + b)\n",
    "    \n",
    "    def train(self, X, y):\n",
    "        assert len(X) == len(y), \"len(X) len(y) not equal\"\n",
    "        \n",
    "        #Encode and add all train data\n",
    "        for i, obs in enumerate(X):\n",
    "            target = y[i]\n",
    "            h = self.encodeVector(obs)\n",
    "            if target not in self.classvecs.keys():\n",
    "                self.classvecs[target] = h\n",
    "            else:\n",
    "                self.classvecs[target] += h\n",
    "                \n",
    "        #Binarize classvectors\n",
    "        for key, val in self.classvecs.items():\n",
    "            self.classvecs[key] = self.binarize(val)\n",
    "                \n",
    "    def predict(self, x):\n",
    "        h = self.encodeVector(x)\n",
    "        dists = {}\n",
    "        min_dist = None\n",
    "        min_key = None\n",
    "        \n",
    "        for key, val in self.classvecs.items():\n",
    "            score = hammingDist(h, val)\n",
    "            dists[key] = score\n",
    "            if min_dist == None or min_dist < score:\n",
    "                min_dist = score\n",
    "                min_key = key\n",
    "            \n",
    "        return min_key, dists\n",
    "    \n",
    "    def predict_all(self, X, y):\n",
    "        correct_matrix = np.zeros((10,10))\n",
    "        acc = 0.0\n",
    "        for i, x in enumerate(X):\n",
    "            pred, _ = self.predict(x)\n",
    "            if pred == y[i]:\n",
    "                acc += 1.0\n",
    "            correct_matrix[int(y[i])][int(pred)] += 1\n",
    "        \n",
    "        acc = acc / len(X)\n",
    "        return acc, correct_matrix"
   ]
  },
  {
   "cell_type": "code",
   "execution_count": 172,
   "id": "75df2de0-995c-4e40-8466-1c0acd4e6d19",
   "metadata": {},
   "outputs": [],
   "source": [
    "encoder = Encoder(10240, NUM_FEATURES, 'rmr')"
   ]
  },
  {
   "cell_type": "code",
   "execution_count": 173,
   "id": "3abc16a7-da6f-46de-a014-21e67030d9e5",
   "metadata": {},
   "outputs": [
    {
     "name": "stdout",
     "output_type": "stream",
     "text": [
      "97.246207 seconds elapsed. Avg 0.019449 seconds per observation\n"
     ]
    }
   ],
   "source": [
    "start = time.time()\n",
    "encoder.train(X[0:TRAIN_SUBSET], y[0:TRAIN_SUBSET])\n",
    "end = time.time()\n",
    "print(\"%f seconds elapsed. Avg %f seconds per observation\" % (end-start, (end-start) / TRAIN_SUBSET))"
   ]
  },
  {
   "cell_type": "code",
   "execution_count": 174,
   "id": "fab72428-2abd-44a8-bcd4-829d24fa05cd",
   "metadata": {},
   "outputs": [],
   "source": [
    "acc, mat = encoder.predict_all(X[TRAIN_SUBSET:TRAIN_SUBSET+TEST_SUBSET], y[TRAIN_SUBSET:TRAIN_SUBSET+TEST_SUBSET])"
   ]
  },
  {
   "cell_type": "code",
   "execution_count": 175,
   "id": "0ddfe170-178f-4e6f-9802-61e0ac74a22b",
   "metadata": {},
   "outputs": [
    {
     "name": "stdout",
     "output_type": "stream",
     "text": [
      "0.082\n",
      "[[ 9.  0. 23.  0.  0. 43.  0. 10. 28.  0.]\n",
      " [ 9.  0. 25.  0.  0. 36.  0.  9. 29.  0.]\n",
      " [ 4.  0. 15.  0.  0. 37.  0.  6. 31.  0.]\n",
      " [12.  0. 20.  0.  0. 37.  0. 15. 31.  0.]\n",
      " [10.  0. 20.  0.  0. 36.  0.  6. 16.  0.]\n",
      " [ 5.  0. 25.  0.  0. 26.  0.  7. 17.  0.]\n",
      " [10.  0. 26.  0.  0. 36.  0. 10. 25.  0.]\n",
      " [ 6.  0. 21.  0.  0. 35.  0. 11. 28.  0.]\n",
      " [11.  0. 18.  0.  0. 31.  0.  8. 21.  0.]\n",
      " [ 9.  0. 13.  0.  0. 39.  0. 14. 31.  0.]]\n"
     ]
    }
   ],
   "source": [
    "print(acc)\n",
    "print(mat)"
   ]
  },
  {
   "cell_type": "code",
   "execution_count": 176,
   "id": "22cc5b8c-f09c-4ae8-93cf-5a0087a37366",
   "metadata": {},
   "outputs": [
    {
     "name": "stdout",
     "output_type": "stream",
     "text": [
      "10238.0\n",
      "10240.0\n",
      "10240.0\n",
      "10240.0\n",
      "10240.0\n",
      "10238.0\n",
      "10240.0\n",
      "10240.0\n",
      "10238.0\n",
      "10236.0\n"
     ]
    }
   ],
   "source": [
    "for key, val in encoder.classvecs.items():\n",
    "        print(np.sum(val))"
   ]
  },
  {
   "cell_type": "code",
   "execution_count": null,
   "id": "2a278af0-5a71-4e56-962e-1b17ef4e263f",
   "metadata": {},
   "outputs": [],
   "source": []
  }
 ],
 "metadata": {
  "kernelspec": {
   "display_name": "Python 3 (ipykernel)",
   "language": "python",
   "name": "python3"
  },
  "language_info": {
   "codemirror_mode": {
    "name": "ipython",
    "version": 3
   },
   "file_extension": ".py",
   "mimetype": "text/x-python",
   "name": "python",
   "nbconvert_exporter": "python",
   "pygments_lexer": "ipython3",
   "version": "3.9.7"
  }
 },
 "nbformat": 4,
 "nbformat_minor": 5
}
