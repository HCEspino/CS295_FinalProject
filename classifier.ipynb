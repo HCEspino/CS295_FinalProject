{
 "cells": [
  {
   "cell_type": "code",
   "execution_count": 1,
   "id": "b0565de3-5d95-4f1b-bbd6-3ebe9353ca8b",
   "metadata": {},
   "outputs": [
    {
     "name": "stderr",
     "output_type": "stream",
     "text": [
      "C:\\Users\\harri\\AppData\\Local\\Programs\\Python\\Python39\\lib\\site-packages\\tqdm\\auto.py:22: TqdmWarning: IProgress not found. Please update jupyter and ipywidgets. See https://ipywidgets.readthedocs.io/en/stable/user_install.html\n",
      "  from .autonotebook import tqdm as notebook_tqdm\n"
     ]
    }
   ],
   "source": [
    "import sklearn.datasets\n",
    "import numpy as np\n",
    "from numpy.linalg import norm\n",
    "import matplotlib.pyplot as plt\n",
    "import pandas as pd\n",
    "import os\n",
    "import torch\n",
    "import time\n",
    "\n",
    "np.random.seed(1)\n",
    "NUM_FEATURES = 784"
   ]
  },
  {
   "cell_type": "code",
   "execution_count": 2,
   "id": "889c2679-22b9-439c-86bd-535b704fda31",
   "metadata": {},
   "outputs": [],
   "source": [
    "dataset = sklearn.datasets.fetch_openml(\"mnist_784\", version=1)"
   ]
  },
  {
   "cell_type": "code",
   "execution_count": 3,
   "id": "a5860e10-651b-4cdb-824b-f2a45c9d0fc8",
   "metadata": {},
   "outputs": [],
   "source": [
    "X = dataset.data.to_numpy()\n",
    "y = dataset.target.to_numpy()"
   ]
  },
  {
   "cell_type": "code",
   "execution_count": 8,
   "id": "8729e36d-eee0-4264-89d9-3ab3d1535cd9",
   "metadata": {},
   "outputs": [],
   "source": [
    "def randomVector(n):\n",
    "    \"\"\"\n",
    "    Randomly generates hypervector of size n\n",
    "    \"\"\"\n",
    "    return (2*np.random.randint(0, 2, n)) - 1\n",
    "\n",
    "def bind(a, b):\n",
    "    return np.multiply(a, b)\n",
    "\n",
    "def randomFlip(vec, idxs):\n",
    "    \"\"\"\n",
    "    Returns a vector with the inx bits flipped.\n",
    "    \"\"\"\n",
    "    assert len(idxs) <= len(vec), \"Number of bits to flip greater than vector length\"\n",
    "    \n",
    "    flipped_vec = np.copy(vec)\n",
    "    \n",
    "    for i in idxs:\n",
    "        flipped_vec[i] *= -1\n",
    "        \n",
    "    return flipped_vec\n",
    "    \n",
    "\n",
    "def hammingDist(a, b):\n",
    "    \"\"\"\n",
    "    Normalized hamming distance between two vectors.\n",
    "    Vectors are assumed to be binarized.\n",
    "    \"\"\"\n",
    "    assert len(a) == len(b), \"Vectors are not the same length\"\n",
    "    return np.count_nonzero(a!=b) / len(a)"
   ]
  },
  {
   "cell_type": "code",
   "execution_count": 163,
   "id": "a3d9596d-038c-4a14-a843-e3f09efb2ca3",
   "metadata": {},
   "outputs": [],
   "source": [
    "def buildLevelVectors(levels, dim):\n",
    "    \"\"\"\n",
    "    Level hypervectors, level hypervector at i is copied from level hypervector i-1 with D/(2*255) bits flipped\n",
    "    \"\"\"\n",
    "    levelvectors = []\n",
    "    min_vector = randomVector(dim)\n",
    "    \n",
    "    levelvectors.append(min_vector)\n",
    "    \n",
    "    window = 0\n",
    "    indexes = np.arange(0, dim)\n",
    "    np.random.shuffle(indexes)\n",
    "    bit_flips = int(dim/(2*255))\n",
    "\n",
    "    for i in range(1, levels):\n",
    "        mid_vec = np.copy(levelvectors[i-1])\n",
    "        mid_vec = randomFlip(mid_vec, indexes[window:window+bit_flips])\n",
    "        window += bit_flips\n",
    "\n",
    "        levelvectors.append(mid_vec)\n",
    "        \n",
    "    return np.array(levelvectors)\n",
    "\n",
    "def buildPosVectors(n, dim):\n",
    "    \"\"\"\n",
    "    Array of n random hypervectors to encode position of features.\n",
    "    \"\"\"\n",
    "    posvectors = []\n",
    "    for i in range(n):\n",
    "        posvectors.append(randomVector(dim))\n",
    "    return np.array(posvectors)\n",
    "\n",
    "def rmrBinarize(x):\n",
    "    \"\"\"\n",
    "    Random majority rule. 0 are randomly set to 1 or -1\n",
    "    \"\"\"\n",
    "    h = [i/i if i != 0 else np.random.choice([-1.0, 1.0]) for i in x]\n",
    "    return h\n",
    "\n",
    "def fmrBinarize(x, k):\n",
    "    \"\"\"\n",
    "    Fixed majority rule. 0 are set to k\n",
    "    \"\"\"\n",
    "    h = [i/i if i != 0 else k for i in x]\n",
    "    return h"
   ]
  },
  {
   "cell_type": "code",
   "execution_count": 164,
   "id": "f2214b57-ce24-43b3-800c-82c02a42fd88",
   "metadata": {},
   "outputs": [],
   "source": [
    "class Encoder:\n",
    "    def __init__(self, dim, n_features, binarizer):\n",
    "        self.D = dim\n",
    "        self.n_features = n_features\n",
    "        self.B = buildPosVectors(n_features, dim)\n",
    "        self.levelvectors = buildLevelVectors(256, dim)\n",
    "        self.binarizer = binarizer        \n",
    "        self.classvecs = {}\n",
    "        \n",
    "    def binarize(self, x):\n",
    "        if self.binarizer == 'rmr':\n",
    "            return rmrBinarize(x)\n",
    "        else:\n",
    "            return fmrBinarize(x, -1)\n",
    "    \n",
    "    def encodeVector(self, X):\n",
    "        h = np.zeros(self.D)\n",
    "        for i, feature in enumerate(X):\n",
    "            h = np.add(h, np.multiply(self.levelvectors[int(feature)], self.B[i]))\n",
    "        \n",
    "        return h\n",
    "        \n",
    "    \n",
    "    def train(self, X, y):\n",
    "        assert len(X) == len(y), \"len(X) len(y) not equal\"\n",
    "        \n",
    "        #Encode and add all train data\n",
    "        for i, obs in enumerate(X):\n",
    "            target = y[i]\n",
    "            h = self.encodeVector(obs)\n",
    "            h = self.binarize(h)\n",
    "            if target not in self.classvecs.keys():\n",
    "                self.classvecs[target] = h\n",
    "            else:\n",
    "                self.classvecs[target] = np.add(self.classvecs[target], h)\n",
    "                \n",
    "        #Binarize classvectors\n",
    "        for key, val in self.classvecs.items():\n",
    "            self.classvecs[key] = self.binarize(val)\n",
    "                \n",
    "    def predict(self, x):\n",
    "        h = self.encodeVector(x)\n",
    "        h = self.binarize(h)\n",
    "        dists = {}\n",
    "        \n",
    "        for key, val in self.classvecs.items():\n",
    "            dists[key] = hammingDist(h, val)\n",
    "            \n",
    "        print(list(self.classvecs.keys())[np.argmax(self.classvecs.values())])\n",
    "            \n",
    "        return dists"
   ]
  },
  {
   "cell_type": "code",
   "execution_count": 167,
   "id": "75df2de0-995c-4e40-8466-1c0acd4e6d19",
   "metadata": {},
   "outputs": [],
   "source": [
    "encoder = Encoder(10240, NUM_FEATURES, 'rmr')"
   ]
  },
  {
   "cell_type": "code",
   "execution_count": 168,
   "id": "3abc16a7-da6f-46de-a014-21e67030d9e5",
   "metadata": {},
   "outputs": [
    {
     "name": "stdout",
     "output_type": "stream",
     "text": [
      "626.501752 seconds elapsed. Avg 0.017900 seconds per observation\n"
     ]
    }
   ],
   "source": [
    "TRAIN_SUBSET = 35000\n",
    "\n",
    "start = time.time()\n",
    "encoder.train(X[0:TRAIN_SUBSET], y[0:TRAIN_SUBSET])\n",
    "end = time.time()\n",
    "print(\"%f seconds elapsed. Avg %f seconds per observation\" % (end-start, (end-start) / TRAIN_SUBSET))"
   ]
  },
  {
   "cell_type": "code",
   "execution_count": null,
   "id": "fab72428-2abd-44a8-bcd4-829d24fa05cd",
   "metadata": {},
   "outputs": [],
   "source": [
    "for i in range(TRAIN_SUBSET):\n",
    "    print(\"------------\")\n",
    "    encoder.predict(X[i])\n",
    "    print(y[i])\n",
    "    print(\"------------\")"
   ]
  },
  {
   "cell_type": "code",
   "execution_count": 128,
   "id": "0ddfe170-178f-4e6f-9802-61e0ac74a22b",
   "metadata": {},
   "outputs": [
    {
     "name": "stdout",
     "output_type": "stream",
     "text": [
      "(10240,)\n"
     ]
    }
   ],
   "source": [
    "print(np.array(encoder.classvecs['0']).shape)"
   ]
  },
  {
   "cell_type": "code",
   "execution_count": 169,
   "id": "e93c08b0-4dcb-4aab-8d64-bfa514c53d33",
   "metadata": {},
   "outputs": [
    {
     "name": "stdout",
     "output_type": "stream",
     "text": [
      "10240.0\n",
      "10238.0\n",
      "10240.0\n",
      "10236.0\n",
      "10238.0\n",
      "10240.0\n",
      "10240.0\n",
      "10240.0\n",
      "10238.0\n",
      "10240.0\n"
     ]
    }
   ],
   "source": [
    "for key, val in encoder.classvecs.items():\n",
    "    #print(val)\n",
    "    print(np.sum(val))"
   ]
  },
  {
   "cell_type": "code",
   "execution_count": null,
   "id": "be51a6a1-9fc6-46ca-bd8f-bb116c9e19a4",
   "metadata": {},
   "outputs": [],
   "source": []
  }
 ],
 "metadata": {
  "kernelspec": {
   "display_name": "Python 3 (ipykernel)",
   "language": "python",
   "name": "python3"
  },
  "language_info": {
   "codemirror_mode": {
    "name": "ipython",
    "version": 3
   },
   "file_extension": ".py",
   "mimetype": "text/x-python",
   "name": "python",
   "nbconvert_exporter": "python",
   "pygments_lexer": "ipython3",
   "version": "3.9.9"
  }
 },
 "nbformat": 4,
 "nbformat_minor": 5
}
