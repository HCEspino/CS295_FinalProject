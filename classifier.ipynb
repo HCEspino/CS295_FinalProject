{
 "cells": [
  {
   "cell_type": "code",
   "execution_count": 1,
   "id": "b0565de3-5d95-4f1b-bbd6-3ebe9353ca8b",
   "metadata": {},
   "outputs": [],
   "source": [
    "import sklearn.datasets\n",
    "import numpy as np\n",
    "from numpy.linalg import norm\n",
    "from scipy.spatial.distance import hamming\n",
    "from scipy.special import softmax\n",
    "from scipy.ndimage import zoom\n",
    "from skimage.measure import block_reduce\n",
    "import matplotlib.pyplot as plt\n",
    "import pandas as pd\n",
    "import os\n",
    "import time\n",
    "import pickle\n",
    "\n",
    "NUM_FEATURES = 784\n",
    "\n",
    "TRAIN_SUBSET = 50000\n",
    "TEST_SUBSET = 20000\n",
    "FMR = False # if false then RMR"
   ]
  },
  {
   "cell_type": "code",
   "execution_count": 2,
   "id": "889c2679-22b9-439c-86bd-535b704fda31",
   "metadata": {},
   "outputs": [],
   "source": [
    "dataset = sklearn.datasets.fetch_openml(\"mnist_784\", version=1)"
   ]
  },
  {
   "cell_type": "code",
   "execution_count": 3,
   "id": "a5860e10-651b-4cdb-824b-f2a45c9d0fc8",
   "metadata": {},
   "outputs": [],
   "source": [
    "X = dataset.data.to_numpy()\n",
    "y = dataset.target.to_numpy()"
   ]
  },
  {
   "cell_type": "code",
   "execution_count": 4,
   "id": "8729e36d-eee0-4264-89d9-3ab3d1535cd9",
   "metadata": {},
   "outputs": [],
   "source": [
    "def randomVector(n):\n",
    "    \"\"\"\n",
    "    Randomly generates hypervector of size n\n",
    "    \"\"\"\n",
    "    return (2*np.random.randint(0, 2, n)) - 1\n",
    "\n",
    "def bind(a, b):\n",
    "    return np.multiply(a, b)\n",
    "\n",
    "def randomFlip(vec, idxs):\n",
    "    \"\"\"\n",
    "    Returns a vector with the inx bits flipped.\n",
    "    \"\"\"\n",
    "    assert len(idxs) <= len(vec), \"Number of bits to flip greater than vector length\"\n",
    "    \n",
    "    flipped_vec = np.copy(vec)\n",
    "    \n",
    "    for i in idxs:\n",
    "        flipped_vec[i] *= -1\n",
    "        \n",
    "    return flipped_vec\n",
    "    \n",
    "def cosSim(a, b):\n",
    "    \"\"\"\n",
    "    Performs cosine similarity on vectors a and b\n",
    "    \"\"\"\n",
    "    \n",
    "    if norm(a) == 0 or norm(b) == 0:\n",
    "        return 0\n",
    "    else:\n",
    "        return (np.dot(a, b) / (norm(a) * norm(b)))\n",
    "\n",
    "def hammingDist(a, b):\n",
    "    \"\"\"\n",
    "    Normalized hamming distance between two vectors.\n",
    "    Vectors are assumed to be binarized.\n",
    "    \"\"\"\n",
    "    assert len(a) == len(b), \"Vectors are not the same length\"\n",
    "    #return hamming(a, b)\n",
    "    return np.count_nonzero(a!=b) / len(a)\n",
    "\n",
    "def compareVectors(X):\n",
    "    \"\"\"\n",
    "    Generates a heatmap comparing each vector to all other vectors\n",
    "    \"\"\"\n",
    "    mat = np.zeros((len(X), len(X)))\n",
    "    for i, x1 in enumerate(X):\n",
    "        for j, x2 in enumerate(X):\n",
    "            mat[i][j] = hammingDist(x1, x2)\n",
    "            \n",
    "    return mat"
   ]
  },
  {
   "cell_type": "code",
   "execution_count": 5,
   "id": "a3d9596d-038c-4a14-a843-e3f09efb2ca3",
   "metadata": {},
   "outputs": [],
   "source": [
    "def buildLevelVectors(levels, dim):\n",
    "    \"\"\"\n",
    "    Level hypervectors, level hypervector at i is copied from level hypervector i-1 with D/(2*255) bits flipped\n",
    "    \"\"\"\n",
    "    levelvectors = []\n",
    "    min_vector = randomVector(dim)\n",
    "    \n",
    "    levelvectors.append(min_vector)\n",
    "    \n",
    "    window = 0\n",
    "    indexes = np.arange(0, dim)\n",
    "    np.random.shuffle(indexes)\n",
    "    bit_flips = int(dim/(2*255))\n",
    "\n",
    "    for i in range(1, levels):\n",
    "        mid_vec = np.copy(levelvectors[i-1])\n",
    "        mid_vec = randomFlip(mid_vec, indexes[window:window+bit_flips])\n",
    "        window += bit_flips\n",
    "        \n",
    "        levelvectors.append(mid_vec)\n",
    "        \n",
    "    return np.array(levelvectors)\n",
    "\n",
    "def buildPosVectors(n, dim):\n",
    "    \"\"\"\n",
    "    Array of n random hypervectors to encode position of features.\n",
    "    \"\"\"\n",
    "    posvectors = []\n",
    "    for i in range(n):\n",
    "        posvectors.append(randomVector(dim))\n",
    "    return np.array(posvectors)\n",
    "\n",
    "def rmrBinarize(x):\n",
    "    \"\"\"\n",
    "    Random majority rule. 0 are randomly set to 1 or -1\n",
    "    \"\"\"\n",
    "    h = [i/abs(i) if i != 0 else np.random.choice([-1.0, 1.0]) for i in x]\n",
    "    return np.array(h)\n",
    "\n",
    "def fmrBinarize(x, k):\n",
    "    \"\"\"\n",
    "    Fixed majority rule. 0 are set to k\n",
    "    \"\"\"\n",
    "    h = [i/abs(i) if i != 0 else k for i in x]\n",
    "    return np.array(h)"
   ]
  },
  {
   "cell_type": "code",
   "execution_count": 7,
   "id": "f2214b57-ce24-43b3-800c-82c02a42fd88",
   "metadata": {},
   "outputs": [],
   "source": [
    "class Encoder:\n",
    "    def __init__(self, dim, n_features, binarizer, load=True):\n",
    "        self.D = dim\n",
    "        self.n_features = n_features\n",
    "        if load:\n",
    "            self.loadClasses()\n",
    "        else:\n",
    "            self.B = buildPosVectors(n_features, dim)\n",
    "            self.levelvectors = buildLevelVectors(256, dim)\n",
    "        self.binarizer = binarizer        \n",
    "        self.classvecs = {}\n",
    "        \n",
    "    def saveClasses(self):\n",
    "        with open('classvectorsfmr.pickle', 'wb') as handle:\n",
    "            pickle.dump(self.classvecs, handle, protocol=pickle.HIGHEST_PROTOCOL)\n",
    "            \n",
    "        with open('posvectorsfmr.pickle', 'wb') as handle:\n",
    "            pickle.dump(self.B, handle, protocol=pickle.HIGHEST_PROTOCOL)\n",
    "            \n",
    "        with open('levelvectorsfmr.pickle', 'wb') as handle:\n",
    "            pickle.dump(self.levelvectors, handle, protocol=pickle.HIGHEST_PROTOCOL)\n",
    "            \n",
    "    def loadClasses(self):\n",
    "        with open('classvectorsfmr.pickle', 'rb') as handle:\n",
    "            self.classvecs = pickle.load(handle)\n",
    "            \n",
    "        with open('posvectorsfmr.pickle', 'rb') as handle:\n",
    "            self.B = pickle.load(handle)\n",
    "\n",
    "        with open('levelvectorsfmr.pickle', 'rb') as handle:\n",
    "            self.levelvectors = pickle.load(handle)\n",
    "        \n",
    "    def binarize(self, x):\n",
    "        if self.binarizer == 'rmr':\n",
    "            return rmrBinarize(x)\n",
    "        else:\n",
    "            return fmrBinarize(x, -1)\n",
    "    \n",
    "    def encodeVector(self, X):\n",
    "        h = np.zeros(self.D)\n",
    "        for i, feature in enumerate(X):\n",
    "            h += bind(self.levelvectors[int(feature)], self.B[i])\n",
    "        \n",
    "        return self.binarize(h)\n",
    "    \n",
    "    def train(self, X, y):\n",
    "        assert len(X) == len(y), \"len(X) len(y) not equal\"\n",
    "        \n",
    "        #Encode and add all train data\n",
    "        for i, obs in enumerate(X):\n",
    "            target = y[i]\n",
    "            h = self.encodeVector(obs)\n",
    "            if target not in self.classvecs.keys():\n",
    "                self.classvecs[target] = h\n",
    "            else:\n",
    "                self.classvecs[target] += h\n",
    "                \n",
    "        #Binarize classvectors\n",
    "        for key, val in self.classvecs.items():\n",
    "            self.classvecs[key] = self.binarize(val)\n",
    "                \n",
    "    def predict(self, x):\n",
    "        h = self.encodeVector(x)\n",
    "        dists = {}\n",
    "        min_dist = None\n",
    "        min_key = None\n",
    "        \n",
    "        for key, val in self.classvecs.items():\n",
    "            score = hammingDist(h, val)\n",
    "            dists[key] = score\n",
    "            if min_dist == None or min_dist > score:\n",
    "                min_dist = score\n",
    "                min_key = key\n",
    "            \n",
    "        return min_key, dists\n",
    "    \n",
    "    def predictAll(self, X, y):\n",
    "        correct_matrix = np.zeros((10,10))\n",
    "        acc = 0.0\n",
    "        for i, x in enumerate(X):\n",
    "            pred, _ = self.predict(x)\n",
    "            if pred == y[i]:\n",
    "                acc += 1.0\n",
    "            correct_matrix[int(y[i])][int(pred)] += 1\n",
    "        \n",
    "        acc = acc / len(X)\n",
    "        return acc, correct_matrix"
   ]
  },
  {
   "cell_type": "code",
   "execution_count": 8,
   "id": "75df2de0-995c-4e40-8466-1c0acd4e6d19",
   "metadata": {},
   "outputs": [],
   "source": [
    "encoder = Encoder(10240, NUM_FEATURES, 'frm' if FMR else 'rmr')"
   ]
  },
  {
   "cell_type": "markdown",
   "id": "8eaeadb8-3d33-4a7e-9cc0-ac3d53770027",
   "metadata": {},
   "source": [
    "## Train from scratch"
   ]
  },
  {
   "cell_type": "code",
   "execution_count": 8,
   "id": "3abc16a7-da6f-46de-a014-21e67030d9e5",
   "metadata": {},
   "outputs": [
    {
     "name": "stdout",
     "output_type": "stream",
     "text": [
      "959.540713 seconds elapsed. Avg 0.019191 seconds per observation\n"
     ]
    }
   ],
   "source": [
    "start = time.time()\n",
    "encoder.train(X[0:TRAIN_SUBSET], y[0:TRAIN_SUBSET])\n",
    "end = time.time()\n",
    "print(\"%f seconds elapsed. Avg %f seconds per observation\" % (end-start, (end-start) / TRAIN_SUBSET))"
   ]
  },
  {
   "cell_type": "markdown",
   "id": "30ca8af5-4a85-49ee-a05d-a3229e42fa4e",
   "metadata": {},
   "source": [
    "## Load classvectors"
   ]
  },
  {
   "cell_type": "code",
   "execution_count": 22,
   "id": "48804cd1-096d-4e1f-ab82-5c7801e0243e",
   "metadata": {},
   "outputs": [],
   "source": [
    "encoder.loadClasses()"
   ]
  },
  {
   "cell_type": "markdown",
   "id": "a04fe515-c6f6-49ae-b20b-e564a2afbad1",
   "metadata": {},
   "source": [
    "## Figure 2 from the paper"
   ]
  },
  {
   "cell_type": "code",
   "execution_count": 23,
   "id": "1c7cac02-6cf3-4101-bf1d-c148552514b8",
   "metadata": {},
   "outputs": [
    {
     "data": {
      "image/png": "[encoded data removed]",
      "text/plain": [
       "<Figure size 432x288 with 2 Axes>"
      ]
     },
     "metadata": {
      "needs_background": "light"
     },
     "output_type": "display_data"
    }
   ],
   "source": [
    "levelmat = compareVectors(encoder.levelvectors)\n",
    "plt.imshow(levelmat, cmap='plasma', interpolation='nearest')\n",
    "plt.title(\"Value Memory\")\n",
    "plt.colorbar()\n",
    "plt.show()"
   ]
  },
  {
   "cell_type": "code",
   "execution_count": 24,
   "id": "b66fef3b-0ee9-49de-862a-7951c5c3b7c6",
   "metadata": {},
   "outputs": [
    {
     "data": {
      "image/png": "[encoded data removed]",
      "text/plain": [
       "<Figure size 432x288 with 2 Axes>"
      ]
     },
     "metadata": {
      "needs_background": "light"
     },
     "output_type": "display_data"
    }
   ],
   "source": [
    "levelmat = compareVectors(encoder.B)\n",
    "plt.imshow(levelmat, cmap='plasma', interpolation='nearest')\n",
    "plt.title(\"Position Memory\")\n",
    "plt.colorbar()\n",
    "plt.show()"
   ]
  },
  {
   "cell_type": "code",
   "execution_count": 11,
   "id": "fab72428-2abd-44a8-bcd4-829d24fa05cd",
   "metadata": {},
   "outputs": [],
   "source": [
    "acc, mat = encoder.predictAll(X[TRAIN_SUBSET:TRAIN_SUBSET+TEST_SUBSET], y[TRAIN_SUBSET:TRAIN_SUBSET+TEST_SUBSET])"
   ]
  },
  {
   "cell_type": "code",
   "execution_count": 12,
   "id": "0ddfe170-178f-4e6f-9802-61e0ac74a22b",
   "metadata": {},
   "outputs": [
    {
     "name": "stdout",
     "output_type": "stream",
     "text": [
      "Test Accuracy: 0.81725\n"
     ]
    },
    {
     "data": {
      "image/png": "[encoded data removed]",
      "text/plain": [
       "<Figure size 432x288 with 2 Axes>"
      ]
     },
     "metadata": {
      "needs_background": "light"
     },
     "output_type": "display_data"
    }
   ],
   "source": [
    "print(f\"Test Accuracy: {acc}\")\n",
    "plt.imshow(mat, cmap='hot', interpolation='nearest')\n",
    "plt.xticks(np.arange(0,10))\n",
    "plt.yticks(np.arange(0,10))\n",
    "plt.colorbar()\n",
    "plt.show()"
   ]
  },
  {
   "cell_type": "code",
   "execution_count": 13,
   "id": "86e226f3-4de1-4248-ab3b-e0699b3d3a60",
   "metadata": {},
   "outputs": [],
   "source": [
    "per_img_acc = np.zeros(len(mat))\n",
    "for i in range(len(mat)):\n",
    "    per_img_acc[i] = mat[i][i] / np.sum(mat[i])"
   ]
  },
  {
   "cell_type": "code",
   "execution_count": 14,
   "id": "dbcbd637-46b2-4b24-b6cb-3174f7fff80e",
   "metadata": {},
   "outputs": [
    {
     "data": {
      "image/png": "[encoded data removed]",
      "text/plain": [
       "<Figure size 432x288 with 1 Axes>"
      ]
     },
     "metadata": {
      "needs_background": "light"
     },
     "output_type": "display_data"
    }
   ],
   "source": [
    "x_label = np.arange(0, 10)\n",
    "plt.bar(x_label, per_img_acc)\n",
    "plt.xticks(x_label)\n",
    "plt.title(\"Per Image Accuracy\")\n",
    "plt.show()"
   ]
  },
  {
   "cell_type": "markdown",
   "id": "b927d5b0-15c5-41dc-a2ec-8a256d79c692",
   "metadata": {},
   "source": [
    "## Save"
   ]
  },
  {
   "cell_type": "code",
   "execution_count": 15,
   "id": "119e5613-d43b-4c10-9ce7-6f666ad00826",
   "metadata": {},
   "outputs": [],
   "source": [
    "encoder.saveClasses()"
   ]
  },
  {
   "cell_type": "markdown",
   "id": "9ed0463d-7ab6-4639-b5c4-04b8b35ed96a",
   "metadata": {},
   "source": [
    "## Genetic Algorithm"
   ]
  },
  {
   "cell_type": "code",
   "execution_count": 9,
   "id": "307eec1a-49dc-4660-9fbf-6d74bdb5c9d2",
   "metadata": {},
   "outputs": [],
   "source": [
    "def bestIncorrectLabel(label, dists):\n",
    "    \"\"\"\n",
    "    Returns the minimum hamming distance of the image to any class hypervector that isn't the true label. Used in the objective function\n",
    "    \"\"\"\n",
    "    min_dist = None\n",
    "    min_key = None\n",
    "    \n",
    "    for d in dists.keys():\n",
    "        if d != label:\n",
    "            if min_dist == None or min_dist > dists[d]:\n",
    "                min_dist = dists[d]\n",
    "                min_key = d\n",
    "                \n",
    "    return min_dist, min_key"
   ]
  },
  {
   "cell_type": "code",
   "execution_count": 10,
   "id": "3a6b2346-031e-4cc4-994c-9f7e678fdb70",
   "metadata": {},
   "outputs": [],
   "source": [
    "#g(X, t) Objective Function. Equation 1 in paper\n",
    "def g(f: Encoder, X, t, epsilon):\n",
    "    pred_label, pred_dist = f.predict(X)\n",
    "    \n",
    "    #Find the next most confident prediction\n",
    "    min_fx, _ = bestIncorrectLabel(t, pred_dist)\n",
    "    ftx = pred_dist[pred_label]\n",
    "\n",
    "    #Epsilon term prevents adding more noise if prediction is already wrong\n",
    "    return max(min_fx - ftx, -epsilon)\n",
    "\n",
    "#Fitness function (Actual fitness is additive inverse of this). Equation 2 in paper.\n",
    "def fitness(encoder, X_adverse, X, t, c, epsilon):\n",
    "    X_diff = np.linalg.norm(X_adverse - X)\n",
    "    return g(encoder, X_adverse, t, epsilon) + (c * X_diff)"
   ]
  },
  {
   "cell_type": "code",
   "execution_count": 11,
   "id": "cce5daec-45cc-4e27-ac12-34707fbe0ad5",
   "metadata": {},
   "outputs": [],
   "source": [
    "def randomNoise(X, theta):\n",
    "    \"\"\"\n",
    "    Perturb X with uniform random noise from (-theta, theta). Output clamped from 0, 255\n",
    "    \"\"\"\n",
    "    noise = np.random.randint(low=-theta, high=theta, size=len(X))\n",
    "    X_p = X + noise\n",
    "    X_p = np.clip(X_p, 0, 255)\n",
    "    return X_p\n",
    "\n",
    "def maxPool(X):\n",
    "    \"\"\"\n",
    "    Performs 2x2 max pooling on X and then upsamples to original size\n",
    "    \"\"\"\n",
    "    X_p = X.reshape(28, 28)\n",
    "    X_p = block_reduce(X_p, (2,2), np.max)\n",
    "    X_p = zoom(X_p, 2, order=0)\n",
    "    return X_p.reshape(784)\n",
    "\n",
    "def initPopulation(X, N, theta):\n",
    "    \"\"\"\n",
    "    Creates N adversarial images of X\n",
    "    \"\"\"\n",
    "    pop = []\n",
    "    for i in range(N):\n",
    "        X_member = randomNoise(X, theta)\n",
    "        pop.append(X_member)\n",
    "        \n",
    "    return pop\n",
    "\n",
    "def chooseWeightedPair(weights):\n",
    "    \"\"\"\n",
    "    Randomly choose two indices with corresponding weight\n",
    "    \"\"\"\n",
    "    indices = np.arange(len(weights))\n",
    "    pair = np.random.choice(indices, size=2, replace=False, p=weights)\n",
    "    return pair[0], pair[1]"
   ]
  },
  {
   "cell_type": "code",
   "execution_count": 12,
   "id": "7e92d8ab-fec9-4f9c-b684-5bd72d4cb369",
   "metadata": {},
   "outputs": [],
   "source": [
    "def criticalGeneCrossover(parent1, parent2, p, mutation_dist, mutation_prob, beta):\n",
    "    child = np.copy(parent1)\n",
    "    child = child.reshape(28, 28)\n",
    "    \n",
    "    child_ = maxPool(child)\n",
    "    child_ = (child_ - np.min(child_))/(np.max(child))\n",
    "    child = child.reshape(784)\n",
    "    \n",
    "    \n",
    "    for idx in range(len(child_)):\n",
    "        if child_[idx] > beta:\n",
    "            #Take from parent\n",
    "            child[idx] = p*parent1[idx] + (1-p)*parent2[idx]\n",
    "            \n",
    "            #Mutate\n",
    "            child[idx] = child[idx] + np.random.choice(a=[0,1], p=[1-mutation_prob, mutation_prob])*np.random.uniform(-mutation_dist, mutation_dist)\n",
    "    \n",
    "    \n",
    "    child = np.clip(child, 0, 255)\n",
    "    #plt.imshow(1 - child.reshape(28, 28), cmap='gray')\n",
    "    #plt.axis(\"off\")\n",
    "    #plt.show()\n",
    "    return child\n",
    "\n",
    "def perturbationAdjustment(X_ori, X_adv, t, encoder):\n",
    "    #Index list of changed pixels\n",
    "    X_adj = np.copy(X_adv)\n",
    "    \n",
    "    L = []\n",
    "    for i in range(len(X_ori)):\n",
    "        if X_ori[i] != X_adv[i]:\n",
    "            L.append(i)  \n",
    "    \n",
    "    for p in L:\n",
    "        v_ori = int(X_ori[p])\n",
    "        v_adv = int(X_adv[p])\n",
    "        for v in range(v_ori, v_adv + 1):\n",
    "            X_adj[p] = float(v)\n",
    "            pred, _ = encoder.predict(X_adj)\n",
    "            if pred != t:\n",
    "                break\n",
    "                \n",
    "    return X_adj"
   ]
  },
  {
   "cell_type": "code",
   "execution_count": 13,
   "id": "cd161b51-883a-4b01-b8f4-b9c031fcf273",
   "metadata": {},
   "outputs": [],
   "source": [
    "def genetic(X, t, N, Imax, theta, epsilon, c, mutation_theta, mutation_prob, beta, encoder):\n",
    "    \"\"\"\n",
    "    Original image: X\n",
    "    True label: t\n",
    "    Population size: N\n",
    "    Maximum iterations: Imax\n",
    "    Random noise range: theta\n",
    "    Objective function term: epsilon\n",
    "    Fitness regularization: c\n",
    "    Mutation noise range: mutation_theta\n",
    "    Mutation probability: mutation_prob\n",
    "    beta: \"Critical Gene threshold\" for a pixel to be considered for mutation\n",
    "    Encoder: encoder\n",
    "    \"\"\"\n",
    "    G_curr = initPopulation(X, N, theta)\n",
    "    X_n = np.array([None])\n",
    "    for i in range(Imax):\n",
    "        #Fitness score of each member\n",
    "        pop_fitness = [-fitness(encoder, member, X, t, c, epsilon) for member in G_curr]\n",
    "        #print(\"Fitness\")\n",
    "        #print(pop_fitness)\n",
    "        #Get elite member\n",
    "        elite = G_curr[np.argmax(pop_fitness)]\n",
    "        G_next = [elite]\n",
    "        \n",
    "        if i % 10 == 0:\n",
    "            print(f\"{i}/{Imax}: {-fitness(encoder, elite, X, t, c, epsilon)}\")\n",
    "            \n",
    "            #plt.imshow(1-(elite.reshape(28, 28)), cmap='gray')\n",
    "            #plt.axis(\"off\")\n",
    "            #plt.savefig(f\"gen_{i}.jpg\")\n",
    "            #plt.show()\n",
    "            \n",
    "        \n",
    "        pred_label, _ = encoder.predict(elite)\n",
    "        if pred_label != t:\n",
    "            print(\"Finished\")\n",
    "            X_n = elite\n",
    "            break\n",
    "        \n",
    "        #Softmax of fitness scores as selection probability for mating\n",
    "        P_sel = softmax(pop_fitness)\n",
    "\n",
    "        for j in range(1, N):\n",
    "            idx1, idx2 = chooseWeightedPair(P_sel)\n",
    "            parent1 = G_curr[idx1]\n",
    "            parent2 = G_curr[idx2]\n",
    "            #print(f\"Parents: {idx1} and {idx2}\")\n",
    "            #Probability distribution found by dividing fitness of p1 by sum of fitness beween p1 and p2\n",
    "            p = pop_fitness[idx1] / (pop_fitness[idx1] + pop_fitness[idx2])\n",
    "            #print(f\"Probability distribution: {p}\")\n",
    "            \n",
    "            #TODO Figure out numbers for Sigma max, mutation probability, and critical gene threshold\n",
    "            child = criticalGeneCrossover(parent1=G_curr[idx1],\n",
    "                                          parent2=G_curr[idx2],\n",
    "                                          p=p,\n",
    "                                          mutation_dist=mutation_theta,\n",
    "                                          mutation_prob=mutation_prob,\n",
    "                                          beta=beta)\n",
    "            G_next.append(child)\n",
    "        \n",
    "        G_curr = G_next\n",
    "        \n",
    "    #If still empty\n",
    "    if X_n.any() == None:\n",
    "        print(f\"Stopped unsuccessfully after {Imax} iterations\")\n",
    "        X_n = G_curr[0]\n",
    "    else:\n",
    "        X_n = perturbationAdjustment(X, X_n, t, encoder)\n",
    "    return X_n"
   ]
  },
  {
   "cell_type": "code",
   "execution_count": 25,
   "id": "912f9261-e627-4d48-8179-f8c42446f94c",
   "metadata": {},
   "outputs": [
    {
     "name": "stdout",
     "output_type": "stream",
     "text": [
      "('9', {'5': 0.09853515625, '0': 0.1208984375, '4': 0.0822265625, '1': 0.113671875, '9': 0.074609375, '2': 0.109765625, '3': 0.10986328125, '6': 0.0986328125, '7': 0.09033203125, '8': 0.0986328125})\n"
     ]
    },
    {
     "data": {
      "image/png": "[encoded data removed]",
      "text/plain": [
       "<Figure size 432x288 with 1 Axes>"
      ]
     },
     "metadata": {
      "needs_background": "light"
     },
     "output_type": "display_data"
    }
   ],
   "source": [
    "#Test Images for testing\n",
    "test_X = X[116]\n",
    "test_y = y[116]\n",
    "print(encoder.predict(test_X))\n",
    "img = test_X.reshape(28, 28)\n",
    "\n",
    "plt.imshow(1 - img, cmap='gray')\n",
    "plt.axis(\"off\")\n",
    "plt.show()"
   ]
  },
  {
   "cell_type": "code",
   "execution_count": 26,
   "id": "1c409a19-aaaf-4a69-9b65-757024fa38c0",
   "metadata": {},
   "outputs": [
    {
     "data": {
      "image/png": "[encoded data removed]",
      "text/plain": [
       "<Figure size 432x288 with 1 Axes>"
      ]
     },
     "metadata": {
      "needs_background": "light"
     },
     "output_type": "display_data"
    }
   ],
   "source": [
    "#Testing Noise Generation\n",
    "perturbed_X = randomNoise(test_X, 25)\n",
    "img_p = perturbed_X.reshape(28, 28)\n",
    "plt.imshow(1 - img_p, cmap='gray')\n",
    "plt.axis(\"off\")\n",
    "plt.show()"
   ]
  },
  {
   "cell_type": "code",
   "execution_count": 27,
   "id": "cebab4a6-a6f2-42cc-9773-cb6499c56f1d",
   "metadata": {},
   "outputs": [
    {
     "data": {
      "image/png": "[encoded data removed]",
      "text/plain": [
       "<Figure size 432x288 with 1 Axes>"
      ]
     },
     "metadata": {
      "needs_background": "light"
     },
     "output_type": "display_data"
    }
   ],
   "source": [
    "#Testing Max Pooling\n",
    "pooled_X = maxPool(test_X)\n",
    "img_pooled = pooled_X.reshape(28, 28)\n",
    "plt.imshow(1 - img_pooled, cmap='gray')\n",
    "plt.axis(\"off\")\n",
    "plt.show()"
   ]
  },
  {
   "cell_type": "code",
   "execution_count": 28,
   "id": "f4ef7d5a-9d34-4d38-869c-299b97cea759",
   "metadata": {},
   "outputs": [
    {
     "data": {
      "image/png": "[encoded data removed]",
      "text/plain": [
       "<Figure size 432x288 with 1 Axes>"
      ]
     },
     "metadata": {
      "needs_background": "light"
     },
     "output_type": "display_data"
    }
   ],
   "source": [
    "#Test max pooling + critical genes\n",
    "critical_X = maxPool(perturbed_X)\n",
    "critical_X = np.abs((critical_X - np.min(critical_X))/(np.max(critical_X)))\n",
    "\n",
    "#print(critical_X)\n",
    "\n",
    "X2 = np.copy(perturbed_X)\n",
    "X2[critical_X > 0.1] = 255\n",
    "\n",
    "img_critical = X2.reshape(28, 28)\n",
    "\n",
    "\n",
    "plt.imshow(img_critical, cmap='gray')\n",
    "plt.axis(\"off\")\n",
    "plt.show()"
   ]
  },
  {
   "cell_type": "code",
   "execution_count": 32,
   "id": "3a8b57a1",
   "metadata": {},
   "outputs": [],
   "source": [
    "def differenceImage(orig, winner):\n",
    "    return np.abs(winner - orig)\n",
    "\n",
    "def saveImage(array, name):\n",
    "    img = array.reshape(28, 28)\n",
    "    plt.imsave(name, img, cmap='gray')\n",
    "    \n",
    "def saveImages(orig, winner, diff, digit_choice):\n",
    "    path = \"FigureImagesFMR\" if FMR else \"FigureImagesRMR\"\n",
    "    saveImage(orig, f\"FigureImagesFMR/{digit_choice}_original.png\")\n",
    "    saveImage(winner, f\"FigureImagesFMR/{digit_choice}_perturbed.png\")\n",
    "    saveImage(diff, f\"FigureImagesFMR/{digit_choice}_difference.png\")"
   ]
  },
  {
   "cell_type": "code",
   "execution_count": 36,
   "id": "bdd25c6e",
   "metadata": {},
   "outputs": [
    {
     "data": {
      "image/png": "[encoded data removed]",
      "text/plain": [
       "<Figure size 432x288 with 1 Axes>"
      ]
     },
     "metadata": {
      "needs_background": "light"
     },
     "output_type": "display_data"
    },
    {
     "name": "stdout",
     "output_type": "stream",
     "text": [
      "0/10000: -0.00011263658375501274\n",
      "Finished\n"
     ]
    },
    {
     "data": {
      "image/png": "[encoded data removed]",
      "text/plain": [
       "<Figure size 432x288 with 1 Axes>"
      ]
     },
     "metadata": {
      "needs_background": "light"
     },
     "output_type": "display_data"
    },
    {
     "data": {
      "image/png": "[encoded data removed]",
      "text/plain": [
       "<Figure size 432x288 with 1 Axes>"
      ]
     },
     "metadata": {
      "needs_background": "light"
     },
     "output_type": "display_data"
    },
    {
     "name": "stdout",
     "output_type": "stream",
     "text": [
      "True label: 5\n",
      "Predicted label: 3\n",
      "# Modified Pixels: 88\n",
      "L2 Difference: 50.20956084253277\n",
      "Linf Difference: 10.0\n"
     ]
    },
    {
     "data": {
      "image/png": "[encoded data removed]",
      "text/plain": [
       "<Figure size 432x288 with 1 Axes>"
      ]
     },
     "metadata": {
      "needs_background": "light"
     },
     "output_type": "display_data"
    },
    {
     "name": "stdout",
     "output_type": "stream",
     "text": [
      "0/10000: -0.02951046226396951\n",
      "10/10000: -0.02793908277194753\n",
      "20/10000: -0.02277218291623592\n",
      "30/10000: -0.023793145265892233\n",
      "40/10000: -0.024458965854490075\n",
      "50/10000: -0.02331855253265622\n",
      "60/10000: -0.022389615270856828\n",
      "70/10000: -0.02343818677950997\n",
      "80/10000: -0.022327867052526436\n",
      "90/10000: -0.020261208176664627\n",
      "100/10000: -0.01968883674097083\n",
      "110/10000: -0.019102899240970837\n",
      "120/10000: -0.0206904911399014\n",
      "130/10000: -0.021120310187534987\n",
      "140/10000: -0.019185722550776045\n",
      "150/10000: -0.01805331839026559\n",
      "160/10000: -0.016888575801937655\n",
      "170/10000: -0.01575358513559468\n",
      "180/10000: -0.015607939037414318\n",
      "190/10000: -0.013076547087814144\n",
      "200/10000: -0.012881234587814141\n",
      "210/10000: -0.014072727884747224\n",
      "220/10000: -0.013291477884747226\n",
      "230/10000: -0.013357934523506174\n",
      "240/10000: -0.01123242085815018\n",
      "250/10000: -0.011623045858150185\n",
      "260/10000: -0.012404295858150182\n",
      "270/10000: -0.01163255087839389\n",
      "280/10000: -0.011046613378393882\n",
      "290/10000: -0.010505303867795291\n",
      "300/10000: -0.010125012596573132\n",
      "310/10000: -0.010515637596573124\n",
      "320/10000: -0.009943147877649185\n",
      "330/10000: -0.00938873943620601\n",
      "340/10000: -0.007819813319607712\n",
      "350/10000: -0.008401279113598\n",
      "360/10000: -0.009041451013215886\n",
      "370/10000: -0.009828199462744915\n",
      "380/10000: -0.007474549367902758\n",
      "390/10000: -0.008255799367902768\n",
      "400/10000: -0.009050413822183521\n",
      "410/10000: -0.007368456164210201\n",
      "420/10000: -0.006395264073497329\n",
      "430/10000: -0.006772088800775162\n",
      "440/10000: -0.006186151300775168\n",
      "450/10000: -0.006967401300775165\n",
      "460/10000: -0.006785365354624609\n",
      "470/10000: -0.0028620806061283727\n",
      "480/10000: -0.0028620806061283727\n",
      "490/10000: -0.0038386431061283727\n",
      "500/10000: -0.0026667681061283838\n",
      "510/10000: -0.00364333060612837\n",
      "520/10000: -0.003462533582883617\n",
      "Finished\n"
     ]
    },
    {
     "data": {
      "image/png": "[encoded data removed]",
      "text/plain": [
       "<Figure size 432x288 with 1 Axes>"
      ]
     },
     "metadata": {
      "needs_background": "light"
     },
     "output_type": "display_data"
    },
    {
     "data": {
      "image/png": "[encoded data removed]",
      "text/plain": [
       "<Figure size 432x288 with 1 Axes>"
      ]
     },
     "metadata": {
      "needs_background": "light"
     },
     "output_type": "display_data"
    },
    {
     "name": "stdout",
     "output_type": "stream",
     "text": [
      "True label: 0\n",
      "Predicted label: 5\n",
      "# Modified Pixels: 387\n",
      "L2 Difference: 1291.80981288364\n",
      "Linf Difference: 228.19628013667443\n"
     ]
    },
    {
     "data": {
      "image/png": "[encoded data removed]",
      "text/plain": [
       "<Figure size 432x288 with 1 Axes>"
      ]
     },
     "metadata": {
      "needs_background": "light"
     },
     "output_type": "display_data"
    },
    {
     "name": "stdout",
     "output_type": "stream",
     "text": [
      "0/10000: -0.008709900764095634\n",
      "10/10000: -0.007591197724336922\n",
      "20/10000: -0.007844402448895333\n",
      "30/10000: -0.00643327276852144\n",
      "40/10000: -0.006636595240623318\n",
      "50/10000: -0.007265825663294053\n",
      "60/10000: -0.006593998684046225\n",
      "70/10000: -0.008018947173045443\n",
      "80/10000: -0.006277944318226843\n",
      "90/10000: -0.006093241913022898\n",
      "100/10000: -0.0064921264701037545\n",
      "110/10000: -0.006296813970103752\n",
      "120/10000: -0.005740741696202454\n",
      "130/10000: -0.005593742100781738\n",
      "140/10000: -0.00561835803093244\n",
      "150/10000: -0.005651703689293289\n",
      "160/10000: -0.004481728665393854\n",
      "170/10000: -0.0043199827110283\n",
      "180/10000: -0.005308845491974956\n",
      "190/10000: -0.005894782991974964\n",
      "200/10000: -0.005539891813676806\n",
      "210/10000: -0.004199862549459206\n",
      "220/10000: -0.005412626820305147\n",
      "230/10000: -0.0038471896523114618\n",
      "240/10000: -0.00365212669811204\n",
      "250/10000: -0.004495454255976372\n",
      "260/10000: -0.0060710842658655275\n",
      "270/10000: -0.003911104786042654\n",
      "280/10000: -0.003923267595408278\n",
      "290/10000: -0.00452894562570749\n",
      "300/10000: -0.005308025440429433\n",
      "310/10000: -0.00515268056745035\n",
      "320/10000: -0.004786937160548353\n",
      "330/10000: -0.00496606677227027\n",
      "340/10000: -0.003398759708911663\n",
      "350/10000: -0.003398759708911677\n",
      "360/10000: -0.0053732636140945735\n",
      "370/10000: -0.0063688044233113274\n",
      "380/10000: -0.005564874346760579\n",
      "390/10000: -0.006595149196513905\n",
      "400/10000: -0.005181283453085074\n",
      "410/10000: -0.005767220953085068\n",
      "420/10000: -0.005767220953085068\n",
      "430/10000: -0.0057614266484822515\n",
      "440/10000: -0.005389672916379802\n",
      "450/10000: -0.005389672916379816\n",
      "460/10000: -0.005780297916379807\n",
      "470/10000: -0.0036234014179574964\n",
      "480/10000: -0.0048178286473979995\n",
      "490/10000: -0.0038412661473979995\n",
      "500/10000: -0.004045782484192301\n",
      "510/10000: -0.005026839911331312\n",
      "520/10000: -0.004833718302778339\n",
      "530/10000: -0.00366184330277835\n",
      "540/10000: -0.0038571558027783387\n",
      "550/10000: -0.004247780802778344\n",
      "560/10000: -0.004443093302778333\n",
      "570/10000: -0.0040524683027783415\n",
      "580/10000: -0.00386307925191499\n",
      "590/10000: -0.004058391751914993\n",
      "600/10000: -0.003667766751914987\n",
      "610/10000: -0.0034724542519149844\n",
      "620/10000: -0.0034724542519149982\n",
      "630/10000: -0.00386307925191499\n",
      "640/10000: -0.0032771417519149955\n",
      "650/10000: -0.0030818292519149927\n",
      "660/10000: -0.003667766751915001\n",
      "670/10000: -0.002691204251915001\n",
      "680/10000: -0.0034724542519149982\n",
      "690/10000: -0.003667766751914987\n",
      "700/10000: -0.004256460949588467\n",
      "710/10000: -0.0032782891269914185\n",
      "720/10000: -0.004412019345373208\n",
      "730/10000: -0.006193213313165994\n",
      "740/10000: -0.004825858951384773\n",
      "750/10000: -0.004454566847772432\n",
      "760/10000: -0.0038686293477724377\n",
      "770/10000: -0.005259190016738481\n",
      "780/10000: -0.007009705934303744\n",
      "790/10000: -0.0060557188007920966\n",
      "800/10000: -0.005677686387314745\n",
      "810/10000: -0.006238634045886291\n",
      "820/10000: -0.005250356186977129\n",
      "830/10000: -0.005439742448012548\n",
      "840/10000: -0.005643490831338265\n",
      "850/10000: -0.006031908463951661\n",
      "860/10000: -0.006256070299857927\n",
      "870/10000: -0.007056188058844037\n",
      "880/10000: -0.004909078921221279\n",
      "890/10000: -0.005015247472302299\n",
      "900/10000: -0.004222925235239569\n",
      "910/10000: -0.006018786696958484\n",
      "920/10000: -0.005879255165767849\n",
      "930/10000: -0.005293317665767841\n",
      "940/10000: -0.006860604656550974\n",
      "950/10000: -0.0077568842622299464\n",
      "960/10000: -0.006562924440090407\n",
      "970/10000: -0.0073599757487188494\n",
      "980/10000: -0.00637415870568484\n",
      "990/10000: -0.0069606860825252165\n",
      "1000/10000: -0.0061695245316638475\n",
      "1010/10000: -0.005970924280079816\n",
      "1020/10000: -0.005637939678005806\n",
      "1030/10000: -0.0050701859415225115\n",
      "1040/10000: -0.0023373512826086813\n",
      "1050/10000: -0.003704538782608687\n",
      "1060/10000: -0.002727976282608687\n",
      "1070/10000: -0.0033139137826086952\n",
      "1080/10000: -0.0029232887826086897\n",
      "1090/10000: -0.0023373512826086813\n",
      "1100/10000: -0.002532663782608684\n",
      "1110/10000: -0.003509226282608698\n",
      "1120/10000: -0.003509226282608698\n",
      "1130/10000: -0.003509959632160095\n",
      "1140/10000: -0.003922205091287626\n",
      "1150/10000: -0.0029669705521249553\n",
      "1160/10000: -0.004323384309190268\n",
      "1170/10000: -0.0031595222558023434\n",
      "1180/10000: -0.003388218946382436\n",
      "1190/10000: -0.0031994362573521\n",
      "1200/10000: -0.003978511630070709\n",
      "1210/10000: -0.003421859796712262\n",
      "1220/10000: -0.003421859796712262\n",
      "1230/10000: -0.003226547296712259\n",
      "1240/10000: -0.0038124847967122674\n",
      "1250/10000: -0.0036171722967122647\n",
      "1260/10000: -0.0032209875901041524\n",
      "1270/10000: -0.005370317772815176\n",
      "1280/10000: -0.00598131428985875\n",
      "1290/10000: -0.004013179100792139\n",
      "1300/10000: -0.002832760259303338\n",
      "1310/10000: -0.003447386302446386\n",
      "1320/10000: -0.0028385531980146448\n",
      "1330/10000: -0.0028385531980146448\n",
      "1340/10000: -0.005572103138563974\n",
      "1350/10000: -0.004404742633576432\n",
      "1360/10000: -0.004200163022808497\n",
      "1370/10000: -0.0036142578977032334\n",
      "1380/10000: -0.0026376953977032473\n",
      "1390/10000: -0.0034102276636987145\n",
      "1400/10000: -0.003800852663698706\n",
      "1410/10000: -0.0036058267654483366\n",
      "1420/10000: -0.002433951765448334\n",
      "1430/10000: -0.0028245767654483393\n",
      "1440/10000: -0.0038093486981841404\n",
      "1450/10000: -0.003621587976953014\n",
      "1460/10000: -0.0030356504769530196\n",
      "1470/10000: -0.002242022429498374\n",
      "1480/10000: -0.0028593785419285126\n",
      "1490/10000: -0.0032299366945804826\n",
      "1500/10000: -0.003644299717629981\n",
      "1510/10000: -0.0032536747176299895\n",
      "1520/10000: -0.003434515793421286\n",
      "1530/10000: -0.0024340054799925808\n",
      "1540/10000: -0.002238692979992578\n",
      "1550/10000: -0.0024340054799925947\n",
      "1560/10000: -0.0022495086678365997\n",
      "1570/10000: -0.002835446167836608\n",
      "1580/10000: -0.0026401336678366053\n",
      "1590/10000: -0.0024448211678366025\n",
      "1600/10000: -0.0034020348262198104\n",
      "1610/10000: -0.0027886066424782936\n",
      "1620/10000: -0.005726471277856553\n",
      "1630/10000: -0.004749908777856553\n",
      "1640/10000: -0.004789473134041027\n",
      "1650/10000: -0.004199584136941056\n",
      "1660/10000: -0.003618210158415419\n",
      "1670/10000: -0.0036195031292990116\n",
      "1680/10000: -0.005754048357949658\n",
      "1690/10000: -0.005368717165650436\n",
      "1700/10000: -0.0049685631023152\n",
      "1710/10000: -0.00323172035636266\n",
      "1720/10000: -0.003606490864184221\n",
      "1730/10000: -0.0028043490338958907\n",
      "1740/10000: -0.004185059912526867\n",
      "1750/10000: -0.003410765807610786\n",
      "1760/10000: -0.003235060096772069\n",
      "1770/10000: -0.0024662429611004098\n",
      "1780/10000: -0.0032564262224393592\n",
      "1790/10000: -0.0034499427317056883\n",
      "Finished\n"
     ]
    },
    {
     "data": {
      "image/png": "[encoded data removed]",
      "text/plain": [
       "<Figure size 432x288 with 1 Axes>"
      ]
     },
     "metadata": {
      "needs_background": "light"
     },
     "output_type": "display_data"
    },
    {
     "data": {
      "image/png": "[encoded data removed]",
      "text/plain": [
       "<Figure size 432x288 with 1 Axes>"
      ]
     },
     "metadata": {
      "needs_background": "light"
     },
     "output_type": "display_data"
    },
    {
     "name": "stdout",
     "output_type": "stream",
     "text": [
      "True label: 4\n",
      "Predicted label: 5\n",
      "# Modified Pixels: 355\n",
      "L2 Difference: 1186.1144193316065\n",
      "Linf Difference: 255.0\n"
     ]
    },
    {
     "data": {
      "image/png": "[encoded data removed]",
      "text/plain": [
       "<Figure size 432x288 with 1 Axes>"
      ]
     },
     "metadata": {
      "needs_background": "light"
     },
     "output_type": "display_data"
    },
    {
     "name": "stdout",
     "output_type": "stream",
     "text": [
      "0/10000: -0.01340086605243444\n",
      "10/10000: -0.012341684208388331\n",
      "20/10000: -0.013240674458060462\n",
      "30/10000: -0.012254134519883981\n",
      "40/10000: -0.01196008330187271\n",
      "50/10000: -0.013141410764857185\n",
      "60/10000: -0.013144335919811673\n",
      "70/10000: -0.011278421645841792\n",
      "80/10000: -0.01230855985675593\n",
      "90/10000: -0.012920819776514585\n",
      "100/10000: -0.010598855946423368\n",
      "110/10000: -0.010228444492671043\n",
      "120/10000: -0.0102657484304709\n",
      "130/10000: -0.013370368831602615\n",
      "140/10000: -0.01203081155467837\n",
      "150/10000: -0.010869200016956713\n",
      "160/10000: -0.010090975184377404\n",
      "170/10000: -0.011474311770505525\n",
      "180/10000: -0.0111128342398797\n",
      "190/10000: -0.010362309356099931\n",
      "200/10000: -0.010362609957693553\n",
      "210/10000: -0.008636706155154019\n",
      "220/10000: -0.008472463557475907\n",
      "230/10000: -0.006169213949746933\n",
      "240/10000: -0.0065598389497469245\n",
      "250/10000: -0.007145776449746933\n",
      "260/10000: -0.006169213949746933\n",
      "270/10000: -0.007558180566138488\n",
      "280/10000: -0.006383995729108593\n",
      "290/10000: -0.008729132367996523\n",
      "300/10000: -0.008924444867996525\n",
      "310/10000: -0.006388798965019945\n",
      "320/10000: -0.008369695336215054\n",
      "330/10000: -0.0077837578362150465\n",
      "340/10000: -0.00836098197105334\n",
      "350/10000: -0.008388281415602536\n",
      "360/10000: -0.006644201765715596\n",
      "370/10000: -0.0056411977119901115\n",
      "380/10000: -0.006422447711990109\n",
      "390/10000: -0.006813072711990114\n",
      "400/10000: -0.007203697711990106\n",
      "410/10000: -0.006448294441001562\n",
      "420/10000: -0.005714228281120909\n",
      "430/10000: -0.006090711379048236\n",
      "440/10000: -0.006288390698791961\n",
      "450/10000: -0.007246914794374029\n",
      "460/10000: -0.0054899006184928835\n",
      "470/10000: -0.006473540904217274\n",
      "480/10000: -0.006078257218731778\n",
      "490/10000: -0.0052910573443557775\n",
      "500/10000: -0.004494240076597325\n",
      "510/10000: -0.006091986089388992\n",
      "520/10000: -0.005283550009163959\n",
      "530/10000: -0.005093741271199392\n",
      "540/10000: -0.005124160594544313\n",
      "550/10000: -0.005912272408241132\n",
      "560/10000: -0.003959147408241132\n",
      "570/10000: -0.004753792883902067\n",
      "580/10000: -0.005371851997428679\n",
      "590/10000: -0.0038166268804971704\n",
      "600/10000: -0.004395614763137105\n",
      "610/10000: -0.005554728275298431\n",
      "620/10000: -0.004968790775298436\n",
      "630/10000: -0.005359415775298428\n",
      "640/10000: -0.005554728275298431\n",
      "650/10000: -0.005364927251827552\n",
      "660/10000: -0.006158607617529288\n",
      "670/10000: -0.005363985101215786\n",
      "680/10000: -0.00656495591659269\n",
      "690/10000: -0.004428014228291905\n",
      "700/10000: -0.006206093841644619\n",
      "710/10000: -0.005439617058438548\n",
      "720/10000: -0.005411060594413102\n",
      "730/10000: -0.006374256686616985\n",
      "740/10000: -0.006175310595394335\n",
      "750/10000: -0.005969669632260524\n",
      "760/10000: -0.00597467482137492\n",
      "770/10000: -0.006356304632876767\n",
      "780/10000: -0.0059994969587728415\n",
      "790/10000: -0.004227759062291907\n",
      "800/10000: -0.004035924134177308\n",
      "810/10000: -0.003879357658828681\n",
      "820/10000: -0.004630020926291793\n",
      "830/10000: -0.00482924225021844\n",
      "840/10000: -0.005021726080048392\n",
      "850/10000: -0.005193237476771835\n",
      "860/10000: -0.004458544048966668\n",
      "870/10000: -0.0036772940489666704\n",
      "880/10000: -0.00486691513135385\n",
      "890/10000: -0.0042766503634924374\n",
      "900/10000: -0.0032863373120273626\n",
      "910/10000: -0.0032863373120273764\n",
      "920/10000: -0.002299811058406197\n",
      "930/10000: -0.003276373558406197\n",
      "940/10000: -0.005618275054236118\n",
      "950/10000: -0.003865104281998443\n",
      "960/10000: -0.004059093526257512\n",
      "970/10000: -0.003461264577399382\n",
      "980/10000: -0.004436704510893878\n",
      "Finished\n"
     ]
    },
    {
     "data": {
      "image/png": "[encoded data removed]",
      "text/plain": [
       "<Figure size 432x288 with 1 Axes>"
      ]
     },
     "metadata": {
      "needs_background": "light"
     },
     "output_type": "display_data"
    },
    {
     "data": {
      "image/png": "[encoded data removed]",
      "text/plain": [
       "<Figure size 432x288 with 1 Axes>"
      ]
     },
     "metadata": {
      "needs_background": "light"
     },
     "output_type": "display_data"
    },
    {
     "name": "stdout",
     "output_type": "stream",
     "text": [
      "True label: 1\n",
      "Predicted label: 2\n",
      "# Modified Pixels: 435\n",
      "L2 Difference: 1066.2605683641934\n",
      "Linf Difference: 251.0\n"
     ]
    },
    {
     "data": {
      "image/png": "[encoded data removed]",
      "text/plain": [
       "<Figure size 432x288 with 1 Axes>"
      ]
     },
     "metadata": {
      "needs_background": "light"
     },
     "output_type": "display_data"
    },
    {
     "name": "stdout",
     "output_type": "stream",
     "text": [
      "0/10000: -0.007537347940553182\n",
      "10/10000: -0.0063191487548944145\n",
      "20/10000: -0.005537898754894403\n",
      "30/10000: -0.006976081655737155\n",
      "40/10000: -0.007445258827314678\n",
      "50/10000: -0.007304789973764191\n",
      "60/10000: -0.005617451706419419\n",
      "70/10000: -0.00525835044847265\n",
      "80/10000: -0.00525251703708518\n",
      "90/10000: -0.005340416904499498\n",
      "100/10000: -0.005917080003226082\n",
      "110/10000: -0.0036568498578430837\n",
      "120/10000: -0.0042710593447169865\n",
      "130/10000: -0.0035110480285920633\n",
      "140/10000: -0.001990997419674303\n",
      "150/10000: -0.0018120696757186333\n",
      "Finished\n"
     ]
    },
    {
     "data": {
      "image/png": "[encoded data removed]",
      "text/plain": [
       "<Figure size 432x288 with 1 Axes>"
      ]
     },
     "metadata": {
      "needs_background": "light"
     },
     "output_type": "display_data"
    },
    {
     "data": {
      "image/png": "[encoded data removed]",
      "text/plain": [
       "<Figure size 432x288 with 1 Axes>"
      ]
     },
     "metadata": {
      "needs_background": "light"
     },
     "output_type": "display_data"
    },
    {
     "name": "stdout",
     "output_type": "stream",
     "text": [
      "True label: 9\n",
      "Predicted label: 4\n",
      "# Modified Pixels: 420\n",
      "L2 Difference: 711.4168254117942\n",
      "Linf Difference: 166.7385317079315\n"
     ]
    },
    {
     "data": {
      "image/png": "[encoded data removed]",
      "text/plain": [
       "<Figure size 432x288 with 1 Axes>"
      ]
     },
     "metadata": {
      "needs_background": "light"
     },
     "output_type": "display_data"
    },
    {
     "name": "stdout",
     "output_type": "stream",
     "text": [
      "0/10000: -0.0005104206593537567\n",
      "Finished\n"
     ]
    },
    {
     "data": {
      "image/png": "[encoded data removed]",
      "text/plain": [
       "<Figure size 432x288 with 1 Axes>"
      ]
     },
     "metadata": {
      "needs_background": "light"
     },
     "output_type": "display_data"
    },
    {
     "data": {
      "image/png": "[encoded data removed]",
      "text/plain": [
       "<Figure size 432x288 with 1 Axes>"
      ]
     },
     "metadata": {
      "needs_background": "light"
     },
     "output_type": "display_data"
    },
    {
     "name": "stdout",
     "output_type": "stream",
     "text": [
      "True label: 2\n",
      "Predicted label: 9\n",
      "# Modified Pixels: 262\n",
      "L2 Difference: 104.70588279966341\n",
      "Linf Difference: 53.15599331232937\n"
     ]
    },
    {
     "data": {
      "image/png": "[encoded data removed]",
      "text/plain": [
       "<Figure size 432x288 with 1 Axes>"
      ]
     },
     "metadata": {
      "needs_background": "light"
     },
     "output_type": "display_data"
    },
    {
     "name": "stdout",
     "output_type": "stream",
     "text": [
      "0/10000: -0.000606813945911297\n",
      "Finished\n"
     ]
    },
    {
     "data": {
      "image/png": "[encoded data removed]",
      "text/plain": [
       "<Figure size 432x288 with 1 Axes>"
      ]
     },
     "metadata": {
      "needs_background": "light"
     },
     "output_type": "display_data"
    },
    {
     "data": {
      "image/png": "[encoded data removed]",
      "text/plain": [
       "<Figure size 432x288 with 1 Axes>"
      ]
     },
     "metadata": {
      "needs_background": "light"
     },
     "output_type": "display_data"
    },
    {
     "name": "stdout",
     "output_type": "stream",
     "text": [
      "True label: 3\n",
      "Predicted label: 8\n",
      "# Modified Pixels: 172\n",
      "L2 Difference: 69.22962188705229\n",
      "Linf Difference: 37.07325929195618\n"
     ]
    },
    {
     "data": {
      "image/png": "[encoded data removed]",
      "text/plain": [
       "<Figure size 432x288 with 1 Axes>"
      ]
     },
     "metadata": {
      "needs_background": "light"
     },
     "output_type": "display_data"
    },
    {
     "name": "stdout",
     "output_type": "stream",
     "text": [
      "0/10000: -0.013990065488264786\n",
      "10/10000: -0.014285044196250958\n",
      "20/10000: -0.010839555874963833\n",
      "30/10000: -0.01147024443678037\n",
      "40/10000: -0.01029876864827674\n",
      "50/10000: -0.008781084615216168\n",
      "60/10000: -0.007802643137902971\n",
      "70/10000: -0.008629538652054899\n",
      "80/10000: -0.004779423740651766\n",
      "90/10000: -0.005560673740651777\n",
      "100/10000: -0.005985906670650003\n",
      "110/10000: -0.0050285216465825785\n",
      "120/10000: -0.005612921051776323\n",
      "130/10000: -0.00409441936983743\n",
      "140/10000: -0.005266294369837433\n",
      "150/10000: -0.004100356711023598\n",
      "160/10000: -0.0066972001606177434\n",
      "170/10000: -0.005742768202265499\n",
      "180/10000: -0.005213433193585847\n",
      "190/10000: -0.00736795542844234\n",
      "200/10000: -0.00450173445772522\n",
      "210/10000: -0.005490206419062731\n",
      "220/10000: -0.007067542245780411\n",
      "230/10000: -0.004179674678681172\n",
      "240/10000: -0.0034265559291168516\n",
      "250/10000: -0.005420804800737003\n",
      "260/10000: -0.005758379464609153\n",
      "270/10000: -0.005206080919122728\n",
      "280/10000: -0.00462523489600995\n",
      "290/10000: -0.004228205312620165\n",
      "300/10000: -0.005010075741694852\n",
      "310/10000: -0.0032500825200609293\n",
      "320/10000: -0.003852820786734404\n",
      "330/10000: -0.004059265749387483\n",
      "340/10000: -0.004288343429226687\n",
      "350/10000: -0.0027478537335651294\n",
      "360/10000: -0.0015907252542968896\n",
      "Finished\n"
     ]
    },
    {
     "data": {
      "image/png": "[encoded data removed]",
      "text/plain": [
       "<Figure size 432x288 with 1 Axes>"
      ]
     },
     "metadata": {
      "needs_background": "light"
     },
     "output_type": "display_data"
    },
    {
     "data": {
      "image/png": "[encoded data removed]",
      "text/plain": [
       "<Figure size 432x288 with 1 Axes>"
      ]
     },
     "metadata": {
      "needs_background": "light"
     },
     "output_type": "display_data"
    },
    {
     "name": "stdout",
     "output_type": "stream",
     "text": [
      "True label: 6\n",
      "Predicted label: 2\n",
      "# Modified Pixels: 444\n",
      "L2 Difference: 1084.431076967026\n",
      "Linf Difference: 232.24729105798002\n"
     ]
    },
    {
     "data": {
      "image/png": "[encoded data removed]",
      "text/plain": [
       "<Figure size 432x288 with 1 Axes>"
      ]
     },
     "metadata": {
      "needs_background": "light"
     },
     "output_type": "display_data"
    },
    {
     "name": "stdout",
     "output_type": "stream",
     "text": [
      "0/10000: -0.00724679178770501\n",
      "10/10000: -0.0068723528594633165\n",
      "20/10000: -0.0055610606804729346\n",
      "30/10000: -0.007415219298763507\n",
      "40/10000: -0.004741014368024232\n",
      "50/10000: -0.00477229989709563\n",
      "60/10000: -0.0042232662052419994\n",
      "70/10000: -0.004686309864332801\n",
      "80/10000: -0.005490107500317075\n",
      "90/10000: -0.003967412483498588\n",
      "100/10000: -0.004206681048503901\n",
      "110/10000: -0.003424760580045397\n",
      "120/10000: -0.002452679810752363\n",
      "130/10000: -0.00225736731075236\n",
      "140/10000: -0.0024568103431696674\n",
      "150/10000: -0.00265212284316967\n",
      "160/10000: -0.003275068139311838\n",
      "170/10000: -0.004283577608075947\n",
      "180/10000: -0.002763831342037587\n",
      "190/10000: -0.002805973180443004\n",
      "Finished\n"
     ]
    },
    {
     "data": {
      "image/png": "[encoded data removed]",
      "text/plain": [
       "<Figure size 432x288 with 1 Axes>"
      ]
     },
     "metadata": {
      "needs_background": "light"
     },
     "output_type": "display_data"
    },
    {
     "data": {
      "image/png": "[encoded data removed]",
      "text/plain": [
       "<Figure size 432x288 with 1 Axes>"
      ]
     },
     "metadata": {
      "needs_background": "light"
     },
     "output_type": "display_data"
    },
    {
     "name": "stdout",
     "output_type": "stream",
     "text": [
      "True label: 7\n",
      "Predicted label: 9\n",
      "# Modified Pixels: 443\n",
      "L2 Difference: 897.2403053614992\n",
      "Linf Difference: 214.92157494216474\n"
     ]
    },
    {
     "data": {
      "image/png": "[encoded data removed]",
      "text/plain": [
       "<Figure size 432x288 with 1 Axes>"
      ]
     },
     "metadata": {
      "needs_background": "light"
     },
     "output_type": "display_data"
    },
    {
     "name": "stdout",
     "output_type": "stream",
     "text": [
      "0/10000: -0.010950951805513535\n",
      "10/10000: -0.010126147228655874\n",
      "20/10000: -0.010222796734902203\n",
      "30/10000: -0.007933620469978747\n",
      "40/10000: -0.00800187090216789\n",
      "50/10000: -0.008451799704086074\n",
      "60/10000: -0.0075261342300728794\n",
      "70/10000: -0.0065495717300728794\n",
      "80/10000: -0.007247020948257027\n",
      "90/10000: -0.006520885647321105\n",
      "100/10000: -0.005734776209735652\n",
      "110/10000: -0.005586666435565532\n",
      "120/10000: -0.005802578784155765\n",
      "130/10000: -0.0067740238937876104\n",
      "140/10000: -0.0058243191944124485\n",
      "150/10000: -0.004899646168632899\n",
      "160/10000: -0.004704333668632882\n",
      "170/10000: -0.004313708668632891\n",
      "180/10000: -0.004704333668632882\n",
      "190/10000: -0.005327590472575421\n",
      "200/10000: -0.003766842678202971\n",
      "210/10000: -0.004192939311156697\n",
      "220/10000: -0.0044369452586863955\n",
      "230/10000: -0.003648683466393069\n",
      "240/10000: -0.0038439959663930717\n",
      "250/10000: -0.003504868778453791\n",
      "260/10000: -0.0029626806177915866\n",
      "270/10000: -0.003752503708922602\n",
      "280/10000: -0.0029639087295379824\n",
      "290/10000: -0.002584634256827303\n",
      "300/10000: -0.0023893217568273003\n",
      "310/10000: -0.002389321756827314\n",
      "320/10000: -0.0022445251540620125\n",
      "330/10000: -0.0038878910362569264\n",
      "340/10000: -0.001955916841650581\n",
      "350/10000: -0.0023719762838316652\n",
      "Finished\n"
     ]
    },
    {
     "data": {
      "image/png": "[encoded data removed]",
      "text/plain": [
       "<Figure size 432x288 with 1 Axes>"
      ]
     },
     "metadata": {
      "needs_background": "light"
     },
     "output_type": "display_data"
    },
    {
     "data": {
      "image/png": "[encoded data removed]",
      "text/plain": [
       "<Figure size 432x288 with 1 Axes>"
      ]
     },
     "metadata": {
      "needs_background": "light"
     },
     "output_type": "display_data"
    },
    {
     "name": "stdout",
     "output_type": "stream",
     "text": [
      "True label: 8\n",
      "Predicted label: 5\n",
      "# Modified Pixels: 368\n",
      "L2 Difference: 1030.5830067050779\n",
      "Linf Difference: 245.5848570751854\n"
     ]
    }
   ],
   "source": [
    "# guess until wrong\n",
    "def repeat_guess(x, label):\n",
    "    tries = 0\n",
    "    pred = label\n",
    "    while pred == label and tries < 100:\n",
    "        pred, vecs = encoder.predict(x)\n",
    "        tries += 1\n",
    "    return pred, tries\n",
    "\n",
    "def draw_image(x):\n",
    "    img = x.reshape(28, 28)\n",
    "    plt.imshow(1 - img, cmap='gray')\n",
    "    plt.axis(\"off\")\n",
    "    plt.show()\n",
    "\n",
    "# stores indicies for each class label\n",
    "digit_idxs = {}\n",
    "for i, yi in enumerate(y):\n",
    "    if yi not in digit_idxs:\n",
    "        digit_idxs[yi] = []\n",
    "    digit_idxs[yi].append(i)\n",
    "\n",
    "ad_examples = {}\n",
    "\n",
    "for d in digit_idxs:\n",
    "    i = digit_idxs[d][0]\n",
    "    test_X = X[i]\n",
    "    test_y = y[i]\n",
    "    draw_image(test_X)\n",
    "    winner = genetic(X=test_X,\n",
    "                 t=test_y,\n",
    "                 N=6,\n",
    "                 Imax=10000,\n",
    "                 theta=10,\n",
    "                 epsilon=0.50,\n",
    "                 c=0.000001,\n",
    "                 mutation_theta=100,\n",
    "                 mutation_prob=0.05,\n",
    "                 beta=0.2,\n",
    "                 encoder=encoder)\n",
    "    ad_examples[d] = winner\n",
    "    diff = differenceImage(test_X, winner)\n",
    "    draw_image(winner)\n",
    "    draw_image(diff)\n",
    "    pred, _ = repeat_guess(winner, test_y)\n",
    "    print(\"True label:\", test_y)\n",
    "    print(\"Predicted label:\", pred)\n",
    "    print(\"# Modified Pixels:\", np.sum(winner != test_X))\n",
    "    print(\"L2 Difference:\", np.linalg.norm(diff, ord=2)/255)\n",
    "    print(\"Linf Difference:\", np.linalg.norm(diff, ord=np.Inf)/255)\n",
    "    saveImages(test_X, winner, diff, d)"
   ]
  },
  {
   "cell_type": "code",
   "execution_count": 38,
   "id": "a2612ddf-4c24-41f4-97e3-82c44ab7112e",
   "metadata": {},
   "outputs": [],
   "source": [
    "def perImgAcc(encoder, image, label, trials):\n",
    "    \n",
    "    correct = 0.0\n",
    "    \n",
    "    for i in range(trials):\n",
    "        pred, _ = encoder.predict(image)\n",
    "        if pred == label:\n",
    "            correct += 1.0\n",
    "            \n",
    "    return correct/trials"
   ]
  },
  {
   "cell_type": "code",
   "execution_count": 39,
   "id": "038639e2",
   "metadata": {},
   "outputs": [],
   "source": [
    "img_acc_benign = []\n",
    "img_acc_adv = []\n",
    "\n",
    "for i in range(10):\n",
    "    d = str(i)\n",
    "    idx = digit_idxs[d][0]\n",
    "    test_X = X[idx]\n",
    "    test_y = y[idx]\n",
    "    winner = ad_examples[d]\n",
    "    img_acc_benign.append(perImgAcc(encoder, test_X, test_y, 1000))\n",
    "    img_acc_adv.append(perImgAcc(encoder, winner, test_y, 1000))"
   ]
  },
  {
   "cell_type": "code",
   "execution_count": 450,
   "id": "7da895ff",
   "metadata": {},
   "outputs": [
    {
     "data": {
      "image/png": "[encoded data removed]",
      "text/plain": [
       "<Figure size 576x432 with 1 Axes>"
      ]
     },
     "metadata": {
      "needs_background": "light"
     },
     "output_type": "display_data"
    }
   ],
   "source": [
    "x = labels\n",
    "width = 0.35\n",
    "fig, ax = plt.subplots(figsize=(8, 6))\n",
    "rects1 = ax.bar(x - width/2, img_acc_benign, width, label='Original')\n",
    "rects2 = ax.bar(x + width/2, img_acc_adv, width, label='Adversary')\n",
    "\n",
    "# Add some text for labels, title and custom x-axis tick labels, etc.\n",
    "ax.set_ylabel('Per Image Acc')\n",
    "ax.set_xticks(x, labels)\n",
    "plt.ylim((0, 1.5))\n",
    "ax.legend()\n",
    "\n",
    "ax.bar_label(rects1, padding=3)\n",
    "ax.bar_label(rects2, padding=3)\n",
    "\n",
    "fig.tight_layout()\n",
    "\n",
    "plt.show()"
   ]
  },
  {
   "cell_type": "code",
   "execution_count": null,
   "id": "5bc2c7fd",
   "metadata": {},
   "outputs": [],
   "source": []
  }
 ],
 "metadata": {
  "kernelspec": {
   "display_name": "Python 3 (ipykernel)",
   "language": "python",
   "name": "python3"
  },
  "language_info": {
   "codemirror_mode": {
    "name": "ipython",
    "version": 3
   },
   "file_extension": ".py",
   "mimetype": "text/x-python",
   "name": "python",
   "nbconvert_exporter": "python",
   "pygments_lexer": "ipython3",
   "version": "3.9.12"
  }
 },
 "nbformat": 4,
 "nbformat_minor": 5
}
