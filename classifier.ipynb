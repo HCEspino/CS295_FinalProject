{
 "cells": [
  {
   "cell_type": "code",
   "execution_count": 425,
   "id": "b0565de3-5d95-4f1b-bbd6-3ebe9353ca8b",
   "metadata": {},
   "outputs": [],
   "source": [
    "import sklearn.datasets\n",
    "import numpy as np\n",
    "from numpy.linalg import norm\n",
    "from scipy.spatial.distance import hamming\n",
    "from scipy.special import softmax\n",
    "from scipy.ndimage import zoom\n",
    "from skimage.measure import block_reduce\n",
    "import matplotlib.pyplot as plt\n",
    "import pandas as pd\n",
    "import os\n",
    "import torch\n",
    "import time\n",
    "import pickle\n",
    "\n",
    "NUM_FEATURES = 784\n",
    "\n",
    "TRAIN_SUBSET = 50000\n",
    "TEST_SUBSET = 20000"
   ]
  },
  {
   "cell_type": "code",
   "execution_count": 6,
   "id": "889c2679-22b9-439c-86bd-535b704fda31",
   "metadata": {},
   "outputs": [],
   "source": [
    "dataset = sklearn.datasets.fetch_openml(\"mnist_784\", version=1)"
   ]
  },
  {
   "cell_type": "code",
   "execution_count": 61,
   "id": "a5860e10-651b-4cdb-824b-f2a45c9d0fc8",
   "metadata": {},
   "outputs": [],
   "source": [
    "X = dataset.data.to_numpy()\n",
    "y = dataset.target.to_numpy()"
   ]
  },
  {
   "cell_type": "code",
   "execution_count": 62,
   "id": "8729e36d-eee0-4264-89d9-3ab3d1535cd9",
   "metadata": {},
   "outputs": [],
   "source": [
    "def randomVector(n):\n",
    "    \"\"\"\n",
    "    Randomly generates hypervector of size n\n",
    "    \"\"\"\n",
    "    return (2*np.random.randint(0, 2, n)) - 1\n",
    "\n",
    "def bind(a, b):\n",
    "    return np.multiply(a, b)\n",
    "\n",
    "def randomFlip(vec, idxs):\n",
    "    \"\"\"\n",
    "    Returns a vector with the inx bits flipped.\n",
    "    \"\"\"\n",
    "    assert len(idxs) <= len(vec), \"Number of bits to flip greater than vector length\"\n",
    "    \n",
    "    flipped_vec = np.copy(vec)\n",
    "    \n",
    "    for i in idxs:\n",
    "        flipped_vec[i] *= -1\n",
    "        \n",
    "    return flipped_vec\n",
    "    \n",
    "def cosSim(a, b):\n",
    "    \"\"\"\n",
    "    Performs cosine similarity on vectors a and b\n",
    "    \"\"\"\n",
    "    \n",
    "    if norm(a) == 0 or norm(b) == 0:\n",
    "        return 0\n",
    "    else:\n",
    "        return (np.dot(a, b) / (norm(a) * norm(b)))\n",
    "\n",
    "def hammingDist(a, b):\n",
    "    \"\"\"\n",
    "    Normalized hamming distance between two vectors.\n",
    "    Vectors are assumed to be binarized.\n",
    "    \"\"\"\n",
    "    assert len(a) == len(b), \"Vectors are not the same length\"\n",
    "    #return hamming(a, b)\n",
    "    return np.count_nonzero(a!=b) / len(a)\n",
    "\n",
    "def compareVectors(X):\n",
    "    \"\"\"\n",
    "    Generates a heatmap comparing each vector to all other vectors\n",
    "    \"\"\"\n",
    "    mat = np.zeros((len(X), len(X)))\n",
    "    for i, x1 in enumerate(X):\n",
    "        for j, x2 in enumerate(X):\n",
    "            mat[i][j] = hammingDist(x1, x2)\n",
    "            \n",
    "    return mat"
   ]
  },
  {
   "cell_type": "code",
   "execution_count": 63,
   "id": "a3d9596d-038c-4a14-a843-e3f09efb2ca3",
   "metadata": {},
   "outputs": [],
   "source": [
    "def buildLevelVectors(levels, dim):\n",
    "    \"\"\"\n",
    "    Level hypervectors, level hypervector at i is copied from level hypervector i-1 with D/(2*255) bits flipped\n",
    "    \"\"\"\n",
    "    levelvectors = []\n",
    "    min_vector = randomVector(dim)\n",
    "    \n",
    "    levelvectors.append(min_vector)\n",
    "    \n",
    "    window = 0\n",
    "    indexes = np.arange(0, dim)\n",
    "    np.random.shuffle(indexes)\n",
    "    bit_flips = int(dim/(2*255))\n",
    "\n",
    "    for i in range(1, levels):\n",
    "        mid_vec = np.copy(levelvectors[i-1])\n",
    "        mid_vec = randomFlip(mid_vec, indexes[window:window+bit_flips])\n",
    "        window += bit_flips\n",
    "        \n",
    "        levelvectors.append(mid_vec)\n",
    "        \n",
    "    return np.array(levelvectors)\n",
    "\n",
    "def buildPosVectors(n, dim):\n",
    "    \"\"\"\n",
    "    Array of n random hypervectors to encode position of features.\n",
    "    \"\"\"\n",
    "    posvectors = []\n",
    "    for i in range(n):\n",
    "        posvectors.append(randomVector(dim))\n",
    "    return np.array(posvectors)\n",
    "\n",
    "def rmrBinarize(x):\n",
    "    \"\"\"\n",
    "    Random majority rule. 0 are randomly set to 1 or -1\n",
    "    \"\"\"\n",
    "    h = [i/abs(i) if i != 0 else np.random.choice([-1.0, 1.0]) for i in x]\n",
    "    return np.array(h)\n",
    "\n",
    "def fmrBinarize(x, k):\n",
    "    \"\"\"\n",
    "    Fixed majority rule. 0 are set to k\n",
    "    \"\"\"\n",
    "    h = [i/abs(i) if i != 0 else k for i in x]\n",
    "    return np.array(h)"
   ]
  },
  {
   "cell_type": "code",
   "execution_count": 64,
   "id": "f2214b57-ce24-43b3-800c-82c02a42fd88",
   "metadata": {},
   "outputs": [],
   "source": [
    "class Encoder:\n",
    "    def __init__(self, dim, n_features, binarizer):\n",
    "        self.D = dim\n",
    "        self.n_features = n_features\n",
    "        self.B = buildPosVectors(n_features, dim)\n",
    "        self.levelvectors = buildLevelVectors(256, dim)\n",
    "        self.binarizer = binarizer        \n",
    "        self.classvecs = {}\n",
    "        \n",
    "    def saveClasses(self):\n",
    "        with open('classvectors.pickle', 'wb') as handle:\n",
    "            pickle.dump(self.classvecs, handle, protocol=pickle.HIGHEST_PROTOCOL)\n",
    "            \n",
    "        with open('posvectors.pickle', 'wb') as handle:\n",
    "            pickle.dump(self.B, handle, protocol=pickle.HIGHEST_PROTOCOL)\n",
    "            \n",
    "        with open('levelvectors.pickle', 'wb') as handle:\n",
    "            pickle.dump(self.levelvectors, handle, protocol=pickle.HIGHEST_PROTOCOL)\n",
    "            \n",
    "    def loadClasses(self):\n",
    "        with open('classvectors.pickle', 'rb') as handle:\n",
    "            self.classvecs = pickle.load(handle)\n",
    "            \n",
    "        with open('posvectors.pickle', 'rb') as handle:\n",
    "            self.B = pickle.load(handle)\n",
    "\n",
    "        with open('levelvectors.pickle', 'rb') as handle:\n",
    "            self.levelvectors = pickle.load(handle)\n",
    "        \n",
    "    def binarize(self, x):\n",
    "        if self.binarizer == 'rmr':\n",
    "            return rmrBinarize(x)\n",
    "        else:\n",
    "            return fmrBinarize(x, -1)\n",
    "    \n",
    "    def encodeVector(self, X):\n",
    "        h = np.zeros(self.D)\n",
    "        for i, feature in enumerate(X):\n",
    "            h += bind(self.levelvectors[int(feature)], self.B[i])\n",
    "        \n",
    "        return self.binarize(h)\n",
    "    \n",
    "    def train(self, X, y):\n",
    "        assert len(X) == len(y), \"len(X) len(y) not equal\"\n",
    "        \n",
    "        #Encode and add all train data\n",
    "        for i, obs in enumerate(X):\n",
    "            target = y[i]\n",
    "            h = self.encodeVector(obs)\n",
    "            if target not in self.classvecs.keys():\n",
    "                self.classvecs[target] = h\n",
    "            else:\n",
    "                self.classvecs[target] += h\n",
    "                \n",
    "        #Binarize classvectors\n",
    "        for key, val in self.classvecs.items():\n",
    "            self.classvecs[key] = self.binarize(val)\n",
    "                \n",
    "    def predict(self, x):\n",
    "        h = self.encodeVector(x)\n",
    "        dists = {}\n",
    "        min_dist = None\n",
    "        min_key = None\n",
    "        \n",
    "        for key, val in self.classvecs.items():\n",
    "            score = hammingDist(h, val)\n",
    "            dists[key] = score\n",
    "            if min_dist == None or min_dist > score:\n",
    "                min_dist = score\n",
    "                min_key = key\n",
    "            \n",
    "        return min_key, dists\n",
    "    \n",
    "    def predictAll(self, X, y):\n",
    "        correct_matrix = np.zeros((10,10))\n",
    "        acc = 0.0\n",
    "        for i, x in enumerate(X):\n",
    "            pred, _ = self.predict(x)\n",
    "            if pred == y[i]:\n",
    "                acc += 1.0\n",
    "            correct_matrix[int(y[i])][int(pred)] += 1\n",
    "        \n",
    "        acc = acc / len(X)\n",
    "        return acc, correct_matrix"
   ]
  },
  {
   "cell_type": "code",
   "execution_count": 11,
   "id": "75df2de0-995c-4e40-8466-1c0acd4e6d19",
   "metadata": {},
   "outputs": [],
   "source": [
    "encoder = Encoder(10240, NUM_FEATURES, 'rmr')"
   ]
  },
  {
   "cell_type": "markdown",
   "id": "8eaeadb8-3d33-4a7e-9cc0-ac3d53770027",
   "metadata": {},
   "source": [
    "## Train from scratch"
   ]
  },
  {
   "cell_type": "code",
   "execution_count": 8,
   "id": "3abc16a7-da6f-46de-a014-21e67030d9e5",
   "metadata": {},
   "outputs": [
    {
     "name": "stdout",
     "output_type": "stream",
     "text": [
      "1037.749165 seconds elapsed. Avg 0.020755 seconds per observation\n"
     ]
    }
   ],
   "source": [
    "start = time.time()\n",
    "encoder.train(X[0:TRAIN_SUBSET], y[0:TRAIN_SUBSET])\n",
    "end = time.time()\n",
    "print(\"%f seconds elapsed. Avg %f seconds per observation\" % (end-start, (end-start) / TRAIN_SUBSET))"
   ]
  },
  {
   "cell_type": "markdown",
   "id": "30ca8af5-4a85-49ee-a05d-a3229e42fa4e",
   "metadata": {},
   "source": [
    "## Load classvectors"
   ]
  },
  {
   "cell_type": "code",
   "execution_count": 12,
   "id": "48804cd1-096d-4e1f-ab82-5c7801e0243e",
   "metadata": {},
   "outputs": [],
   "source": [
    "encoder.loadClasses()"
   ]
  },
  {
   "cell_type": "markdown",
   "id": "a04fe515-c6f6-49ae-b20b-e564a2afbad1",
   "metadata": {},
   "source": [
    "## Figure 2 from the paper"
   ]
  },
  {
   "cell_type": "code",
   "execution_count": 9,
   "id": "1c7cac02-6cf3-4101-bf1d-c148552514b8",
   "metadata": {},
   "outputs": [
    {
     "data": {
      "image/png": "[encoded data removed]",
      "text/plain": [
       "<Figure size 432x288 with 2 Axes>"
      ]
     },
     "metadata": {
      "needs_background": "light"
     },
     "output_type": "display_data"
    }
   ],
   "source": [
    "levelmat = compareVectors(encoder.levelvectors)\n",
    "plt.imshow(levelmat, cmap='plasma', interpolation='nearest')\n",
    "plt.title(\"Value Memory\")\n",
    "plt.colorbar()\n",
    "plt.show()"
   ]
  },
  {
   "cell_type": "code",
   "execution_count": 10,
   "id": "b66fef3b-0ee9-49de-862a-7951c5c3b7c6",
   "metadata": {},
   "outputs": [
    {
     "data": {
      "image/png": "[encoded data removed]",
      "text/plain": [
       "<Figure size 432x288 with 2 Axes>"
      ]
     },
     "metadata": {
      "needs_background": "light"
     },
     "output_type": "display_data"
    }
   ],
   "source": [
    "levelmat = compareVectors(encoder.B)\n",
    "plt.imshow(levelmat, cmap='plasma', interpolation='nearest')\n",
    "plt.title(\"Position Memory\")\n",
    "plt.colorbar()\n",
    "plt.show()"
   ]
  },
  {
   "cell_type": "code",
   "execution_count": 98,
   "id": "fab72428-2abd-44a8-bcd4-829d24fa05cd",
   "metadata": {},
   "outputs": [],
   "source": [
    "acc, mat = encoder.predictAll(X[TRAIN_SUBSET:TRAIN_SUBSET+TEST_SUBSET], y[TRAIN_SUBSET:TRAIN_SUBSET+TEST_SUBSET])"
   ]
  },
  {
   "cell_type": "code",
   "execution_count": 102,
   "id": "0ddfe170-178f-4e6f-9802-61e0ac74a22b",
   "metadata": {},
   "outputs": [
    {
     "name": "stdout",
     "output_type": "stream",
     "text": [
      "Test Accuracy: 0.8094\n"
     ]
    },
    {
     "data": {
      "image/png": "[encoded data removed]",
      "text/plain": [
       "<Figure size 432x288 with 2 Axes>"
      ]
     },
     "metadata": {
      "needs_background": "light"
     },
     "output_type": "display_data"
    }
   ],
   "source": [
    "print(f\"Test Accuracy: {acc}\")\n",
    "plt.imshow(mat, cmap='hot', interpolation='nearest')\n",
    "plt.xticks(np.arange(0,10))\n",
    "plt.yticks(np.arange(0,10))\n",
    "plt.colorbar()\n",
    "plt.show()"
   ]
  },
  {
   "cell_type": "code",
   "execution_count": 100,
   "id": "86e226f3-4de1-4248-ab3b-e0699b3d3a60",
   "metadata": {},
   "outputs": [],
   "source": [
    "per_img_acc = np.zeros(len(mat))\n",
    "for i in range(len(mat)):\n",
    "    per_img_acc[i] = mat[i][i] / np.sum(mat[i])"
   ]
  },
  {
   "cell_type": "code",
   "execution_count": 101,
   "id": "dbcbd637-46b2-4b24-b6cb-3174f7fff80e",
   "metadata": {},
   "outputs": [
    {
     "data": {
      "image/png": "[encoded data removed]",
      "text/plain": [
       "<Figure size 432x288 with 1 Axes>"
      ]
     },
     "metadata": {
      "needs_background": "light"
     },
     "output_type": "display_data"
    }
   ],
   "source": [
    "x_label = np.arange(0, 10)\n",
    "plt.bar(x_label, per_img_acc)\n",
    "plt.xticks(x_label)\n",
    "plt.title(\"Per Image Accuracy\")\n",
    "plt.show()"
   ]
  },
  {
   "cell_type": "markdown",
   "id": "b927d5b0-15c5-41dc-a2ec-8a256d79c692",
   "metadata": {},
   "source": [
    "## Save"
   ]
  },
  {
   "cell_type": "code",
   "execution_count": 15,
   "id": "119e5613-d43b-4c10-9ce7-6f666ad00826",
   "metadata": {},
   "outputs": [],
   "source": [
    "encoder.saveClasses()"
   ]
  },
  {
   "cell_type": "markdown",
   "id": "9ed0463d-7ab6-4639-b5c4-04b8b35ed96a",
   "metadata": {},
   "source": [
    "## Genetic Algorithm"
   ]
  },
  {
   "cell_type": "code",
   "execution_count": 712,
   "id": "307eec1a-49dc-4660-9fbf-6d74bdb5c9d2",
   "metadata": {},
   "outputs": [],
   "source": [
    "def bestIncorrectLabel(label, dists):\n",
    "    \"\"\"\n",
    "    Returns the minimum hamming distance of the image to any class hypervector that isn't the true label. Used in the objective function\n",
    "    \"\"\"\n",
    "    min_dist = None\n",
    "    min_key = None\n",
    "    \n",
    "    for d in dists.keys():\n",
    "        if d != label:\n",
    "            if min_dist == None or min_dist > dists[d]:\n",
    "                min_dist = dists[d]\n",
    "                min_key = d\n",
    "                \n",
    "    return min_dist, min_key"
   ]
  },
  {
   "cell_type": "code",
   "execution_count": 713,
   "id": "3a6b2346-031e-4cc4-994c-9f7e678fdb70",
   "metadata": {},
   "outputs": [],
   "source": [
    "#g(X, t) Objective Function. Equation 1 in paper\n",
    "def g(f: Encoder, X, t, epsilon):\n",
    "    pred_label, pred_dist = f.predict(X)\n",
    "    \n",
    "    #Find the next most confident prediction\n",
    "    min_fx, _ = bestIncorrectLabel(t, pred_dist)\n",
    "    ftx = pred_dist[pred_label]\n",
    "\n",
    "    #Epsilon term prevents adding more noise if prediction is already wrong\n",
    "    return max(min_fx - ftx, -epsilon)\n",
    "\n",
    "#Fitness function (Actual fitness is additive inverse of this). Equation 2 in paper.\n",
    "def fitness(encoder, X_adverse, X, t, c, epsilon):\n",
    "    X_diff = np.linalg.norm(X_adverse - X)\n",
    "    return g(encoder, X_adverse, t, epsilon) + (c * X_diff)"
   ]
  },
  {
   "cell_type": "code",
   "execution_count": 714,
   "id": "cce5daec-45cc-4e27-ac12-34707fbe0ad5",
   "metadata": {},
   "outputs": [],
   "source": [
    "def randomNoise(X, theta):\n",
    "    \"\"\"\n",
    "    Perturb X with uniform random noise from (-theta, theta). Output clamped from 0, 255\n",
    "    \"\"\"\n",
    "    noise = np.random.randint(low=-theta, high=theta, size=len(X))\n",
    "    X_p = X + noise\n",
    "    X_p = np.clip(X_p, 0, 255)\n",
    "    return X_p\n",
    "\n",
    "def maxPool(X):\n",
    "    \"\"\"\n",
    "    Performs 2x2 max pooling on X and then upsamples to original size\n",
    "    \"\"\"\n",
    "    X_p = X.reshape(28, 28)\n",
    "    X_p = block_reduce(X_p, (2,2), np.max)\n",
    "    X_p = zoom(X_p, 2, order=0)\n",
    "    return X_p.reshape(784)\n",
    "\n",
    "def initPopulation(X, N, theta):\n",
    "    \"\"\"\n",
    "    Creates N adversarial images of X\n",
    "    \"\"\"\n",
    "    pop = []\n",
    "    for i in range(N):\n",
    "        X_member = randomNoise(X, theta)\n",
    "        pop.append(X_member)\n",
    "        \n",
    "    return pop\n",
    "\n",
    "def chooseWeightedPair(weights):\n",
    "    \"\"\"\n",
    "    Randomly choose two indices with corresponding weight\n",
    "    \"\"\"\n",
    "    indices = np.arange(len(weights))\n",
    "    pair = np.random.choice(indices, size=2, replace=False, p=weights)\n",
    "    return pair[0], pair[1]"
   ]
  },
  {
   "cell_type": "code",
   "execution_count": 741,
   "id": "7e92d8ab-fec9-4f9c-b684-5bd72d4cb369",
   "metadata": {},
   "outputs": [],
   "source": [
    "def criticalGeneCrossover(parent1, parent2, p, mutation_dist, mutation_prob, beta):\n",
    "    child = np.copy(parent1)\n",
    "    child = child.reshape(28, 28)\n",
    "    \n",
    "    child_ = maxPool(child)\n",
    "    child_ = (child_ - np.min(child_))/(np.max(child))\n",
    "    child = child.reshape(784)\n",
    "    \n",
    "    \n",
    "    for idx in range(len(child_)):\n",
    "        if child_[idx] > beta:\n",
    "            #Take from parent\n",
    "            child[idx] = p*parent1[idx] + (1-p)*parent2[idx]\n",
    "            \n",
    "            #Mutate\n",
    "            child[idx] = child[idx] + np.random.choice(a=[0,1], p=[1-mutation_prob, mutation_prob])*np.random.uniform(-mutation_dist, mutation_dist)\n",
    "    \n",
    "    \n",
    "    child = np.clip(child, 0, 255)\n",
    "    #plt.imshow(1 - child.reshape(28, 28), cmap='gray')\n",
    "    #plt.axis(\"off\")\n",
    "    #plt.show()\n",
    "    return child\n",
    "\n",
    "def perturbationAdjustment(X_ori, X_adv, t, encoder):\n",
    "    #Index list of changed pixels\n",
    "    X_adj = np.copy(X_adv)\n",
    "    \n",
    "    L = []\n",
    "    for i in range(len(X_ori)):\n",
    "        if X_ori[i] != X_adv[i]:\n",
    "            L.append(i)\n",
    "          \n",
    "    print(L)    \n",
    "    \n",
    "    for p in L:\n",
    "        v_ori = int(X_ori[p])\n",
    "        v_adv = int(X_adv[p])\n",
    "        for v in range(v_ori, v_adv + 1):\n",
    "            X_adj[p] = float(v)\n",
    "            pred, _ = encoder.predict(X_adj)\n",
    "            if pred != t:\n",
    "                break\n",
    "                \n",
    "    return X_adj"
   ]
  },
  {
   "cell_type": "code",
   "execution_count": 807,
   "id": "cd161b51-883a-4b01-b8f4-b9c031fcf273",
   "metadata": {},
   "outputs": [],
   "source": [
    "def genetic(X, t, N, Imax, theta, epsilon, c, mutation_theta, mutation_prob, beta, encoder):\n",
    "    \"\"\"\n",
    "    Original image: X\n",
    "    True label: t\n",
    "    Population size: N\n",
    "    Maximum iterations: Imax\n",
    "    Random noise range: theta\n",
    "    Objective function term: epsilon\n",
    "    Fitness regularization: c\n",
    "    Mutation noise range: mutation_theta\n",
    "    Mutation probability: mutation_prob\n",
    "    beta: \"Critical Gene threshold\" for a pixel to be considered for mutation\n",
    "    Encoder: encoder\n",
    "    \"\"\"\n",
    "    G_curr = initPopulation(X, N, theta)\n",
    "    X_n = np.array([None])\n",
    "    for i in range(Imax):\n",
    "        #Fitness score of each member\n",
    "        pop_fitness = [-fitness(encoder, member, X, t, c, epsilon) for member in G_curr]\n",
    "        #print(\"Fitness\")\n",
    "        #print(pop_fitness)\n",
    "        #Get elite member\n",
    "        elite = G_curr[np.argmax(pop_fitness)]\n",
    "        G_next = [elite]\n",
    "        \n",
    "        if i % 10 == 0:\n",
    "            print(f\"{i}/{Imax}: {-fitness(encoder, elite, X, t, c, epsilon)}\")\n",
    "            \n",
    "            #plt.imshow(1-(elite.reshape(28, 28)), cmap='gray')\n",
    "            #plt.axis(\"off\")\n",
    "            #plt.savefig(f\"gen_{i}.jpg\")\n",
    "            #plt.show()\n",
    "            \n",
    "        \n",
    "        pred_label, _ = encoder.predict(elite)\n",
    "        if pred_label != t:\n",
    "            print(\"Finished\")\n",
    "            X_n = elite\n",
    "            break\n",
    "        \n",
    "        #Softmax of fitness scores as selection probability for mating\n",
    "        P_sel = softmax(pop_fitness)\n",
    "\n",
    "        for j in range(1, N):\n",
    "            idx1, idx2 = chooseWeightedPair(P_sel)\n",
    "            parent1 = G_curr[idx1]\n",
    "            parent2 = G_curr[idx2]\n",
    "            #print(f\"Parents: {idx1} and {idx2}\")\n",
    "            #Probability distribution found by dividing fitness of p1 by sum of fitness beween p1 and p2\n",
    "            p = pop_fitness[idx1] / (pop_fitness[idx1] + pop_fitness[idx2])\n",
    "            #print(f\"Probability distribution: {p}\")\n",
    "            \n",
    "            #TODO Figure out numbers for Sigma max, mutation probability, and critical gene threshold\n",
    "            child = criticalGeneCrossover(parent1=G_curr[idx1],\n",
    "                                          parent2=G_curr[idx2],\n",
    "                                          p=p,\n",
    "                                          mutation_dist=mutation_theta,\n",
    "                                          mutation_prob=mutation_prob,\n",
    "                                          beta=beta)\n",
    "            G_next.append(child)\n",
    "        \n",
    "        G_curr = G_next\n",
    "        \n",
    "    #If still empty\n",
    "    if X_n.any() == None:\n",
    "        print(f\"Stopped unsuccessfully after {Imax} iterations\")\n",
    "        X_n = G_curr[0]\n",
    "    else:\n",
    "        X_n = perturbationAdjustment(X, X_n, t, encoder)\n",
    "    return X_n"
   ]
  },
  {
   "cell_type": "code",
   "execution_count": 808,
   "id": "20f40ce3-3ff0-4087-80a8-3b8a192bf1a5",
   "metadata": {},
   "outputs": [
    {
     "name": "stdout",
     "output_type": "stream",
     "text": [
      "1\n"
     ]
    }
   ],
   "source": [
    "for i, label in enumerate(y):\n",
    "    if label == '0':\n",
    "        break\n",
    "    \n",
    "print(i)"
   ]
  },
  {
   "cell_type": "code",
   "execution_count": 809,
   "id": "912f9261-e627-4d48-8179-f8c42446f94c",
   "metadata": {},
   "outputs": [
    {
     "data": {
      "image/png": "[encoded data removed]",
      "text/plain": [
       "<Figure size 432x288 with 1 Axes>"
      ]
     },
     "metadata": {
      "needs_background": "light"
     },
     "output_type": "display_data"
    }
   ],
   "source": [
    "#Test Image\n",
    "#200 = image of 1\n",
    "test_X = X[1]\n",
    "test_y = y[1]\n",
    "\n",
    "img = test_X.reshape(28, 28)\n",
    "\n",
    "plt.imshow(1 - img, cmap='gray')\n",
    "plt.axis(\"off\")\n",
    "plt.show()"
   ]
  },
  {
   "cell_type": "code",
   "execution_count": 810,
   "id": "1c409a19-aaaf-4a69-9b65-757024fa38c0",
   "metadata": {},
   "outputs": [
    {
     "data": {
      "image/png": "[encoded data removed]",
      "text/plain": [
       "<Figure size 432x288 with 1 Axes>"
      ]
     },
     "metadata": {
      "needs_background": "light"
     },
     "output_type": "display_data"
    }
   ],
   "source": [
    "#Testing Noise Generation\n",
    "perturbed_X = randomNoise(test_X, 25)\n",
    "img_p = perturbed_X.reshape(28, 28)\n",
    "plt.imshow(1 - img_p, cmap='gray')\n",
    "plt.axis(\"off\")\n",
    "plt.show()"
   ]
  },
  {
   "cell_type": "code",
   "execution_count": 811,
   "id": "cebab4a6-a6f2-42cc-9773-cb6499c56f1d",
   "metadata": {},
   "outputs": [
    {
     "data": {
      "image/png": "[encoded data removed]",
      "text/plain": [
       "<Figure size 432x288 with 1 Axes>"
      ]
     },
     "metadata": {
      "needs_background": "light"
     },
     "output_type": "display_data"
    }
   ],
   "source": [
    "#Testing Max Pooling\n",
    "pooled_X = maxPool(test_X)\n",
    "img_pooled = pooled_X.reshape(28, 28)\n",
    "plt.imshow(1 - img_pooled, cmap='gray')\n",
    "plt.axis(\"off\")\n",
    "plt.show()"
   ]
  },
  {
   "cell_type": "code",
   "execution_count": 812,
   "id": "f4ef7d5a-9d34-4d38-869c-299b97cea759",
   "metadata": {},
   "outputs": [
    {
     "data": {
      "image/png": "[encoded data removed]",
      "text/plain": [
       "<Figure size 432x288 with 1 Axes>"
      ]
     },
     "metadata": {
      "needs_background": "light"
     },
     "output_type": "display_data"
    }
   ],
   "source": [
    "#Test max pooling + critical genes\n",
    "critical_X = maxPool(perturbed_X)\n",
    "critical_X = np.abs((critical_X - np.min(critical_X))/(np.max(critical_X)))\n",
    "\n",
    "#print(critical_X)\n",
    "\n",
    "X2 = np.copy(perturbed_X)\n",
    "X2[critical_X > 0.1] = 255\n",
    "\n",
    "img_critical = X2.reshape(28, 28)\n",
    "\n",
    "\n",
    "plt.imshow(img_critical, cmap='gray')\n",
    "plt.axis(\"off\")\n",
    "plt.show()"
   ]
  },
  {
   "cell_type": "code",
   "execution_count": 814,
   "id": "ec17fec5-1818-4531-aa89-043fb7d25607",
   "metadata": {},
   "outputs": [
    {
     "name": "stdout",
     "output_type": "stream",
     "text": [
      "0/1000: -0.025695083310478973\n",
      "10/1000: -0.02317557002538062\n",
      "20/1000: -0.022791047201381767\n",
      "30/1000: -0.021244784733528407\n",
      "40/1000: -0.017531007393438318\n",
      "50/1000: -0.021640538482316066\n",
      "60/1000: -0.019300866988019454\n",
      "70/1000: -0.018329640613035523\n",
      "80/1000: -0.015985898483818654\n",
      "90/1000: -0.015215914495913557\n",
      "100/1000: -0.015417556748395553\n",
      "110/1000: -0.016590411396307698\n",
      "120/1000: -0.015226877547345386\n",
      "130/1000: -0.015424232048618954\n",
      "140/1000: -0.013282360075449128\n",
      "150/1000: -0.010744481400377304\n",
      "160/1000: -0.011529969727719124\n",
      "170/1000: -0.007829390854873441\n",
      "180/1000: -0.010561135438110332\n",
      "190/1000: -0.009585755073144207\n",
      "200/1000: -0.009195817952813917\n",
      "210/1000: -0.008609944360862314\n",
      "220/1000: -0.006464477683432914\n",
      "230/1000: -0.006855915579077228\n",
      "240/1000: -0.007445583757603629\n",
      "250/1000: -0.007835001298699984\n",
      "260/1000: -0.007253369341465893\n",
      "270/1000: -0.007061622934008376\n",
      "280/1000: -0.010970479436348102\n",
      "290/1000: -0.011168690585505245\n",
      "300/1000: -0.010581796179335108\n",
      "310/1000: -0.009805936969818508\n",
      "320/1000: -0.006288973049211934\n",
      "330/1000: -0.009419797147998343\n",
      "340/1000: -0.00610098081247387\n",
      "350/1000: -0.005905668312473867\n",
      "360/1000: -0.005514141205987388\n",
      "370/1000: -0.0059047662059873935\n",
      "380/1000: -0.005708700574635297\n",
      "390/1000: -0.00473743815954334\n",
      "400/1000: -0.0029829510232995873\n",
      "Finished\n"
     ]
    }
   ],
   "source": [
    "\"\"\"\n",
    "Original image: X\n",
    "True label: t\n",
    "Population size: N\n",
    "Maximum iterations: Imax\n",
    "Random initializaion noise range: theta\n",
    "Objective function term: epsilon\n",
    "Fitness regularization (encourage minimal perturbation): c\n",
    "Mutation noise range: mutation_theta\n",
    "Mutation probability: mutation_prob\n",
    "\"Critical Gene threshold\" for a pixel to be considered for mutation: beta\n",
    "Encoder: encoder\n",
    "\"\"\"\n",
    "winner = genetic(X=test_X,\n",
    "                 t=test_y,\n",
    "                 N=6,\n",
    "                 Imax=1000,\n",
    "                 theta=10,\n",
    "                 epsilon=0.10,\n",
    "                 c=0.0000001,\n",
    "#c does need to be really small or else the fitness will be dominated by the regularization term, but idk if it needs to be THIS small\n",
    "                 mutation_theta=100,\n",
    "                 mutation_prob=0.05,\n",
    "                 beta=0.2,\n",
    "                 encoder=encoder)"
   ]
  },
  {
   "cell_type": "code",
   "execution_count": 815,
   "id": "946b70c3-cb6f-48f0-a900-31bc547bd188",
   "metadata": {},
   "outputs": [
    {
     "data": {
      "image/png": "[encoded data removed]",
      "text/plain": [
       "<Figure size 432x288 with 1 Axes>"
      ]
     },
     "metadata": {
      "needs_background": "light"
     },
     "output_type": "display_data"
    }
   ],
   "source": [
    "#Testing Winner\n",
    "img_winner = winner.reshape(28, 28)\n",
    "plt.imshow(1 - img_winner, cmap='gray')\n",
    "plt.axis(\"off\")\n",
    "plt.show()"
   ]
  },
  {
   "cell_type": "code",
   "execution_count": 816,
   "id": "972e431e-2c5e-4cd5-a7a1-2bea4c4acd00",
   "metadata": {},
   "outputs": [
    {
     "name": "stdout",
     "output_type": "stream",
     "text": [
      "Took 1 tries to guess incorrectly\n",
      "True label: 0\n",
      "Predicted label: 5\n",
      "{'5': 0.09375, '0': 0.09423828125, '4': 0.1126953125, '1': 0.10927734375, '9': 0.1107421875, '2': 0.1076171875, '3': 0.10615234375, '6': 0.10908203125, '7': 0.108203125, '8': 0.11103515625}\n"
     ]
    }
   ],
   "source": [
    "tries = 0\n",
    "pred = test_y\n",
    "while pred == test_y and tries < 100:\n",
    "    pred, vecs = encoder.predict(winner)\n",
    "    tries += 1\n",
    "    \n",
    "print(f\"Took {tries} tries to guess incorrectly\")\n",
    "\n",
    "print(f\"True label: {test_y}\")\n",
    "print(f\"Predicted label: {pred}\")\n",
    "print(vecs)"
   ]
  },
  {
   "cell_type": "code",
   "execution_count": 817,
   "id": "a2612ddf-4c24-41f4-97e3-82c44ab7112e",
   "metadata": {},
   "outputs": [],
   "source": [
    "def perImgAcc(encoder, image, label, trials):\n",
    "    \n",
    "    correct = 0.0\n",
    "    \n",
    "    for i in range(trials):\n",
    "        pred, _ = encoder.predict(image)\n",
    "        if pred == label:\n",
    "            correct += 1.0\n",
    "            \n",
    "    return correct/trials"
   ]
  },
  {
   "cell_type": "code",
   "execution_count": 818,
   "id": "c28f8154-1c68-4d8d-bdb7-004054050f1a",
   "metadata": {},
   "outputs": [
    {
     "name": "stdout",
     "output_type": "stream",
     "text": [
      "1.0\n"
     ]
    }
   ],
   "source": [
    "print(perImgAcc(encoder, test_X, test_y, 1000))"
   ]
  },
  {
   "cell_type": "code",
   "execution_count": 819,
   "id": "c82fd4cd-8300-494b-a253-e99e4fdf87b9",
   "metadata": {},
   "outputs": [
    {
     "name": "stdout",
     "output_type": "stream",
     "text": [
      "0.598\n"
     ]
    }
   ],
   "source": [
    "print(perImgAcc(encoder, winner, test_y, 1000))"
   ]
  },
  {
   "cell_type": "code",
   "execution_count": null,
   "id": "bf3c8ac8-542c-4a14-a9e9-f2c2cf39222c",
   "metadata": {},
   "outputs": [],
   "source": []
  }
 ],
 "metadata": {
  "kernelspec": {
   "display_name": "Python 3 (ipykernel)",
   "language": "python",
   "name": "python3"
  },
  "language_info": {
   "codemirror_mode": {
    "name": "ipython",
    "version": 3
   },
   "file_extension": ".py",
   "mimetype": "text/x-python",
   "name": "python",
   "nbconvert_exporter": "python",
   "pygments_lexer": "ipython3",
   "version": "3.9.9"
  }
 },
 "nbformat": 4,
 "nbformat_minor": 5
}
